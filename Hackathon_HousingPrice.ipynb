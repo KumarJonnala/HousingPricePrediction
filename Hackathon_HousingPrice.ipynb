{
  "cells": [
    {
      "cell_type": "markdown",
      "metadata": {
        "id": "view-in-github",
        "colab_type": "text"
      },
      "source": [
        "<a href=\"https://colab.research.google.com/github/KumarJonnala/HousingPricePrediction/blob/main/Hackathon_HousingPrice.ipynb\" target=\"_parent\"><img src=\"https://colab.research.google.com/assets/colab-badge.svg\" alt=\"Open In Colab\"/></a>"
      ]
    },
    {
      "cell_type": "markdown",
      "id": "cc4bd892",
      "metadata": {
        "id": "cc4bd892"
      },
      "source": [
        "# Housing Valuation Prediction"
      ]
    },
    {
      "cell_type": "code",
      "execution_count": null,
      "id": "b4a7c0b4",
      "metadata": {
        "id": "b4a7c0b4"
      },
      "outputs": [],
      "source": [
        "import numpy as np\n",
        "import pandas as pd\n",
        "import matplotlib.pyplot as plt\n",
        "import seaborn as sns"
      ]
    },
    {
      "cell_type": "code",
      "source": [
        "from google.colab import drive\n",
        "drive.mount('/content/drive')"
      ],
      "metadata": {
        "colab": {
          "base_uri": "https://localhost:8080/"
        },
        "id": "XpTy9He10eXE",
        "outputId": "8825f0bb-db67-4eaa-d8e3-fb15cc733d6c"
      },
      "id": "XpTy9He10eXE",
      "execution_count": null,
      "outputs": [
        {
          "output_type": "stream",
          "name": "stdout",
          "text": [
            "Mounted at /content/drive\n"
          ]
        }
      ]
    },
    {
      "cell_type": "code",
      "execution_count": null,
      "id": "c57edd45",
      "metadata": {
        "id": "c57edd45"
      },
      "outputs": [],
      "source": [
        "from warnings import filterwarnings\n",
        "filterwarnings('ignore')"
      ]
    },
    {
      "cell_type": "code",
      "source": [
        "from google.colab import drive \n",
        "drive.mount('/content/gdrive')"
      ],
      "metadata": {
        "colab": {
          "base_uri": "https://localhost:8080/"
        },
        "id": "Bv1DE1aIpcLe",
        "outputId": "ca840c8b-620c-471e-ea23-7548d34111f6"
      },
      "id": "Bv1DE1aIpcLe",
      "execution_count": null,
      "outputs": [
        {
          "output_type": "stream",
          "name": "stdout",
          "text": [
            "Mounted at /content/gdrive\n"
          ]
        }
      ]
    },
    {
      "cell_type": "code",
      "source": [
        "housing_data = pd.read_csv('/content/gdrive/MyDrive/Colab Notebooks/Hackathon_PricePediction/train.csv')"
      ],
      "metadata": {
        "id": "VyWNDZa0pmYZ"
      },
      "id": "VyWNDZa0pmYZ",
      "execution_count": null,
      "outputs": []
    },
    {
      "cell_type": "code",
      "execution_count": null,
      "id": "0a593224",
      "metadata": {
        "colab": {
          "base_uri": "https://localhost:8080/",
          "height": 206
        },
        "id": "0a593224",
        "outputId": "eb9ed982-a28f-4ac5-faf6-137114580b8e"
      },
      "outputs": [
        {
          "output_type": "execute_result",
          "data": {
            "text/plain": [
              "   ID             area_type   availability                  location  \\\n",
              "0   0  Super built-up  Area         19-Dec  Electronic City Phase II   \n",
              "1   1            Plot  Area  Ready To Move          Chikka Tirupathi   \n",
              "2   2        Built-up  Area  Ready To Move               Uttarahalli   \n",
              "3   3  Super built-up  Area  Ready To Move        Lingadheeranahalli   \n",
              "4   4  Super built-up  Area  Ready To Move                  Kothanur   \n",
              "\n",
              "        size  society total_sqft  bath  balcony   price  \n",
              "0      2 BHK  Coomee        1056   2.0      1.0   39.07  \n",
              "1  4 Bedroom  Theanmp       2600   5.0      3.0  120.00  \n",
              "2      3 BHK      NaN       1440   2.0      3.0   62.00  \n",
              "3      3 BHK  Soiewre       1521   3.0      1.0   95.00  \n",
              "4      2 BHK      NaN       1200   2.0      1.0   51.00  "
            ],
            "text/html": [
              "\n",
              "  <div id=\"df-b9d76922-ec21-4cef-b168-9824a05be649\">\n",
              "    <div class=\"colab-df-container\">\n",
              "      <div>\n",
              "<style scoped>\n",
              "    .dataframe tbody tr th:only-of-type {\n",
              "        vertical-align: middle;\n",
              "    }\n",
              "\n",
              "    .dataframe tbody tr th {\n",
              "        vertical-align: top;\n",
              "    }\n",
              "\n",
              "    .dataframe thead th {\n",
              "        text-align: right;\n",
              "    }\n",
              "</style>\n",
              "<table border=\"1\" class=\"dataframe\">\n",
              "  <thead>\n",
              "    <tr style=\"text-align: right;\">\n",
              "      <th></th>\n",
              "      <th>ID</th>\n",
              "      <th>area_type</th>\n",
              "      <th>availability</th>\n",
              "      <th>location</th>\n",
              "      <th>size</th>\n",
              "      <th>society</th>\n",
              "      <th>total_sqft</th>\n",
              "      <th>bath</th>\n",
              "      <th>balcony</th>\n",
              "      <th>price</th>\n",
              "    </tr>\n",
              "  </thead>\n",
              "  <tbody>\n",
              "    <tr>\n",
              "      <th>0</th>\n",
              "      <td>0</td>\n",
              "      <td>Super built-up  Area</td>\n",
              "      <td>19-Dec</td>\n",
              "      <td>Electronic City Phase II</td>\n",
              "      <td>2 BHK</td>\n",
              "      <td>Coomee</td>\n",
              "      <td>1056</td>\n",
              "      <td>2.0</td>\n",
              "      <td>1.0</td>\n",
              "      <td>39.07</td>\n",
              "    </tr>\n",
              "    <tr>\n",
              "      <th>1</th>\n",
              "      <td>1</td>\n",
              "      <td>Plot  Area</td>\n",
              "      <td>Ready To Move</td>\n",
              "      <td>Chikka Tirupathi</td>\n",
              "      <td>4 Bedroom</td>\n",
              "      <td>Theanmp</td>\n",
              "      <td>2600</td>\n",
              "      <td>5.0</td>\n",
              "      <td>3.0</td>\n",
              "      <td>120.00</td>\n",
              "    </tr>\n",
              "    <tr>\n",
              "      <th>2</th>\n",
              "      <td>2</td>\n",
              "      <td>Built-up  Area</td>\n",
              "      <td>Ready To Move</td>\n",
              "      <td>Uttarahalli</td>\n",
              "      <td>3 BHK</td>\n",
              "      <td>NaN</td>\n",
              "      <td>1440</td>\n",
              "      <td>2.0</td>\n",
              "      <td>3.0</td>\n",
              "      <td>62.00</td>\n",
              "    </tr>\n",
              "    <tr>\n",
              "      <th>3</th>\n",
              "      <td>3</td>\n",
              "      <td>Super built-up  Area</td>\n",
              "      <td>Ready To Move</td>\n",
              "      <td>Lingadheeranahalli</td>\n",
              "      <td>3 BHK</td>\n",
              "      <td>Soiewre</td>\n",
              "      <td>1521</td>\n",
              "      <td>3.0</td>\n",
              "      <td>1.0</td>\n",
              "      <td>95.00</td>\n",
              "    </tr>\n",
              "    <tr>\n",
              "      <th>4</th>\n",
              "      <td>4</td>\n",
              "      <td>Super built-up  Area</td>\n",
              "      <td>Ready To Move</td>\n",
              "      <td>Kothanur</td>\n",
              "      <td>2 BHK</td>\n",
              "      <td>NaN</td>\n",
              "      <td>1200</td>\n",
              "      <td>2.0</td>\n",
              "      <td>1.0</td>\n",
              "      <td>51.00</td>\n",
              "    </tr>\n",
              "  </tbody>\n",
              "</table>\n",
              "</div>\n",
              "      <button class=\"colab-df-convert\" onclick=\"convertToInteractive('df-b9d76922-ec21-4cef-b168-9824a05be649')\"\n",
              "              title=\"Convert this dataframe to an interactive table.\"\n",
              "              style=\"display:none;\">\n",
              "        \n",
              "  <svg xmlns=\"http://www.w3.org/2000/svg\" height=\"24px\"viewBox=\"0 0 24 24\"\n",
              "       width=\"24px\">\n",
              "    <path d=\"M0 0h24v24H0V0z\" fill=\"none\"/>\n",
              "    <path d=\"M18.56 5.44l.94 2.06.94-2.06 2.06-.94-2.06-.94-.94-2.06-.94 2.06-2.06.94zm-11 1L8.5 8.5l.94-2.06 2.06-.94-2.06-.94L8.5 2.5l-.94 2.06-2.06.94zm10 10l.94 2.06.94-2.06 2.06-.94-2.06-.94-.94-2.06-.94 2.06-2.06.94z\"/><path d=\"M17.41 7.96l-1.37-1.37c-.4-.4-.92-.59-1.43-.59-.52 0-1.04.2-1.43.59L10.3 9.45l-7.72 7.72c-.78.78-.78 2.05 0 2.83L4 21.41c.39.39.9.59 1.41.59.51 0 1.02-.2 1.41-.59l7.78-7.78 2.81-2.81c.8-.78.8-2.07 0-2.86zM5.41 20L4 18.59l7.72-7.72 1.47 1.35L5.41 20z\"/>\n",
              "  </svg>\n",
              "      </button>\n",
              "      \n",
              "  <style>\n",
              "    .colab-df-container {\n",
              "      display:flex;\n",
              "      flex-wrap:wrap;\n",
              "      gap: 12px;\n",
              "    }\n",
              "\n",
              "    .colab-df-convert {\n",
              "      background-color: #E8F0FE;\n",
              "      border: none;\n",
              "      border-radius: 50%;\n",
              "      cursor: pointer;\n",
              "      display: none;\n",
              "      fill: #1967D2;\n",
              "      height: 32px;\n",
              "      padding: 0 0 0 0;\n",
              "      width: 32px;\n",
              "    }\n",
              "\n",
              "    .colab-df-convert:hover {\n",
              "      background-color: #E2EBFA;\n",
              "      box-shadow: 0px 1px 2px rgba(60, 64, 67, 0.3), 0px 1px 3px 1px rgba(60, 64, 67, 0.15);\n",
              "      fill: #174EA6;\n",
              "    }\n",
              "\n",
              "    [theme=dark] .colab-df-convert {\n",
              "      background-color: #3B4455;\n",
              "      fill: #D2E3FC;\n",
              "    }\n",
              "\n",
              "    [theme=dark] .colab-df-convert:hover {\n",
              "      background-color: #434B5C;\n",
              "      box-shadow: 0px 1px 3px 1px rgba(0, 0, 0, 0.15);\n",
              "      filter: drop-shadow(0px 1px 2px rgba(0, 0, 0, 0.3));\n",
              "      fill: #FFFFFF;\n",
              "    }\n",
              "  </style>\n",
              "\n",
              "      <script>\n",
              "        const buttonEl =\n",
              "          document.querySelector('#df-b9d76922-ec21-4cef-b168-9824a05be649 button.colab-df-convert');\n",
              "        buttonEl.style.display =\n",
              "          google.colab.kernel.accessAllowed ? 'block' : 'none';\n",
              "\n",
              "        async function convertToInteractive(key) {\n",
              "          const element = document.querySelector('#df-b9d76922-ec21-4cef-b168-9824a05be649');\n",
              "          const dataTable =\n",
              "            await google.colab.kernel.invokeFunction('convertToInteractive',\n",
              "                                                     [key], {});\n",
              "          if (!dataTable) return;\n",
              "\n",
              "          const docLinkHtml = 'Like what you see? Visit the ' +\n",
              "            '<a target=\"_blank\" href=https://colab.research.google.com/notebooks/data_table.ipynb>data table notebook</a>'\n",
              "            + ' to learn more about interactive tables.';\n",
              "          element.innerHTML = '';\n",
              "          dataTable['output_type'] = 'display_data';\n",
              "          await google.colab.output.renderOutput(dataTable, element);\n",
              "          const docLink = document.createElement('div');\n",
              "          docLink.innerHTML = docLinkHtml;\n",
              "          element.appendChild(docLink);\n",
              "        }\n",
              "      </script>\n",
              "    </div>\n",
              "  </div>\n",
              "  "
            ]
          },
          "metadata": {},
          "execution_count": 6
        }
      ],
      "source": [
        "housing_data.head()"
      ]
    },
    {
      "cell_type": "code",
      "source": [
        "test_data = pd.read_csv('/content/gdrive/MyDrive/Colab Notebooks/Hackathon_PricePediction/test.csv')\n",
        "test_data.head()"
      ],
      "metadata": {
        "colab": {
          "base_uri": "https://localhost:8080/",
          "height": 206
        },
        "id": "VRTl05_DAHOs",
        "outputId": "c825a1a3-0bb8-440d-f678-4a87f018ee97"
      },
      "id": "VRTl05_DAHOs",
      "execution_count": null,
      "outputs": [
        {
          "output_type": "execute_result",
          "data": {
            "text/plain": [
              "   ID             area_type   availability            location       size  \\\n",
              "0   0  Super built-up  Area  Ready To Move          Chamrajpet      2 BHK   \n",
              "1   1  Super built-up  Area  Ready To Move  7th Phase JP Nagar      3 BHK   \n",
              "2   2  Super built-up  Area  Ready To Move          Whitefield      3 BHK   \n",
              "3   3        Built-up  Area  Ready To Move           Jalahalli      2 BHK   \n",
              "4   4            Plot  Area  Ready To Move           TC Palaya  1 Bedroom   \n",
              "\n",
              "   society total_sqft  bath  balcony  \n",
              "0      NaN        650   1.0      1.0  \n",
              "1  SrncyRe       1370   2.0      1.0  \n",
              "2  AjhalNa       1725   3.0      2.0  \n",
              "3      NaN       1000   2.0      0.0  \n",
              "4      NaN       1350   1.0      0.0  "
            ],
            "text/html": [
              "\n",
              "  <div id=\"df-3eb30eda-f163-494d-9fbe-1452d8d4d0b8\">\n",
              "    <div class=\"colab-df-container\">\n",
              "      <div>\n",
              "<style scoped>\n",
              "    .dataframe tbody tr th:only-of-type {\n",
              "        vertical-align: middle;\n",
              "    }\n",
              "\n",
              "    .dataframe tbody tr th {\n",
              "        vertical-align: top;\n",
              "    }\n",
              "\n",
              "    .dataframe thead th {\n",
              "        text-align: right;\n",
              "    }\n",
              "</style>\n",
              "<table border=\"1\" class=\"dataframe\">\n",
              "  <thead>\n",
              "    <tr style=\"text-align: right;\">\n",
              "      <th></th>\n",
              "      <th>ID</th>\n",
              "      <th>area_type</th>\n",
              "      <th>availability</th>\n",
              "      <th>location</th>\n",
              "      <th>size</th>\n",
              "      <th>society</th>\n",
              "      <th>total_sqft</th>\n",
              "      <th>bath</th>\n",
              "      <th>balcony</th>\n",
              "    </tr>\n",
              "  </thead>\n",
              "  <tbody>\n",
              "    <tr>\n",
              "      <th>0</th>\n",
              "      <td>0</td>\n",
              "      <td>Super built-up  Area</td>\n",
              "      <td>Ready To Move</td>\n",
              "      <td>Chamrajpet</td>\n",
              "      <td>2 BHK</td>\n",
              "      <td>NaN</td>\n",
              "      <td>650</td>\n",
              "      <td>1.0</td>\n",
              "      <td>1.0</td>\n",
              "    </tr>\n",
              "    <tr>\n",
              "      <th>1</th>\n",
              "      <td>1</td>\n",
              "      <td>Super built-up  Area</td>\n",
              "      <td>Ready To Move</td>\n",
              "      <td>7th Phase JP Nagar</td>\n",
              "      <td>3 BHK</td>\n",
              "      <td>SrncyRe</td>\n",
              "      <td>1370</td>\n",
              "      <td>2.0</td>\n",
              "      <td>1.0</td>\n",
              "    </tr>\n",
              "    <tr>\n",
              "      <th>2</th>\n",
              "      <td>2</td>\n",
              "      <td>Super built-up  Area</td>\n",
              "      <td>Ready To Move</td>\n",
              "      <td>Whitefield</td>\n",
              "      <td>3 BHK</td>\n",
              "      <td>AjhalNa</td>\n",
              "      <td>1725</td>\n",
              "      <td>3.0</td>\n",
              "      <td>2.0</td>\n",
              "    </tr>\n",
              "    <tr>\n",
              "      <th>3</th>\n",
              "      <td>3</td>\n",
              "      <td>Built-up  Area</td>\n",
              "      <td>Ready To Move</td>\n",
              "      <td>Jalahalli</td>\n",
              "      <td>2 BHK</td>\n",
              "      <td>NaN</td>\n",
              "      <td>1000</td>\n",
              "      <td>2.0</td>\n",
              "      <td>0.0</td>\n",
              "    </tr>\n",
              "    <tr>\n",
              "      <th>4</th>\n",
              "      <td>4</td>\n",
              "      <td>Plot  Area</td>\n",
              "      <td>Ready To Move</td>\n",
              "      <td>TC Palaya</td>\n",
              "      <td>1 Bedroom</td>\n",
              "      <td>NaN</td>\n",
              "      <td>1350</td>\n",
              "      <td>1.0</td>\n",
              "      <td>0.0</td>\n",
              "    </tr>\n",
              "  </tbody>\n",
              "</table>\n",
              "</div>\n",
              "      <button class=\"colab-df-convert\" onclick=\"convertToInteractive('df-3eb30eda-f163-494d-9fbe-1452d8d4d0b8')\"\n",
              "              title=\"Convert this dataframe to an interactive table.\"\n",
              "              style=\"display:none;\">\n",
              "        \n",
              "  <svg xmlns=\"http://www.w3.org/2000/svg\" height=\"24px\"viewBox=\"0 0 24 24\"\n",
              "       width=\"24px\">\n",
              "    <path d=\"M0 0h24v24H0V0z\" fill=\"none\"/>\n",
              "    <path d=\"M18.56 5.44l.94 2.06.94-2.06 2.06-.94-2.06-.94-.94-2.06-.94 2.06-2.06.94zm-11 1L8.5 8.5l.94-2.06 2.06-.94-2.06-.94L8.5 2.5l-.94 2.06-2.06.94zm10 10l.94 2.06.94-2.06 2.06-.94-2.06-.94-.94-2.06-.94 2.06-2.06.94z\"/><path d=\"M17.41 7.96l-1.37-1.37c-.4-.4-.92-.59-1.43-.59-.52 0-1.04.2-1.43.59L10.3 9.45l-7.72 7.72c-.78.78-.78 2.05 0 2.83L4 21.41c.39.39.9.59 1.41.59.51 0 1.02-.2 1.41-.59l7.78-7.78 2.81-2.81c.8-.78.8-2.07 0-2.86zM5.41 20L4 18.59l7.72-7.72 1.47 1.35L5.41 20z\"/>\n",
              "  </svg>\n",
              "      </button>\n",
              "      \n",
              "  <style>\n",
              "    .colab-df-container {\n",
              "      display:flex;\n",
              "      flex-wrap:wrap;\n",
              "      gap: 12px;\n",
              "    }\n",
              "\n",
              "    .colab-df-convert {\n",
              "      background-color: #E8F0FE;\n",
              "      border: none;\n",
              "      border-radius: 50%;\n",
              "      cursor: pointer;\n",
              "      display: none;\n",
              "      fill: #1967D2;\n",
              "      height: 32px;\n",
              "      padding: 0 0 0 0;\n",
              "      width: 32px;\n",
              "    }\n",
              "\n",
              "    .colab-df-convert:hover {\n",
              "      background-color: #E2EBFA;\n",
              "      box-shadow: 0px 1px 2px rgba(60, 64, 67, 0.3), 0px 1px 3px 1px rgba(60, 64, 67, 0.15);\n",
              "      fill: #174EA6;\n",
              "    }\n",
              "\n",
              "    [theme=dark] .colab-df-convert {\n",
              "      background-color: #3B4455;\n",
              "      fill: #D2E3FC;\n",
              "    }\n",
              "\n",
              "    [theme=dark] .colab-df-convert:hover {\n",
              "      background-color: #434B5C;\n",
              "      box-shadow: 0px 1px 3px 1px rgba(0, 0, 0, 0.15);\n",
              "      filter: drop-shadow(0px 1px 2px rgba(0, 0, 0, 0.3));\n",
              "      fill: #FFFFFF;\n",
              "    }\n",
              "  </style>\n",
              "\n",
              "      <script>\n",
              "        const buttonEl =\n",
              "          document.querySelector('#df-3eb30eda-f163-494d-9fbe-1452d8d4d0b8 button.colab-df-convert');\n",
              "        buttonEl.style.display =\n",
              "          google.colab.kernel.accessAllowed ? 'block' : 'none';\n",
              "\n",
              "        async function convertToInteractive(key) {\n",
              "          const element = document.querySelector('#df-3eb30eda-f163-494d-9fbe-1452d8d4d0b8');\n",
              "          const dataTable =\n",
              "            await google.colab.kernel.invokeFunction('convertToInteractive',\n",
              "                                                     [key], {});\n",
              "          if (!dataTable) return;\n",
              "\n",
              "          const docLinkHtml = 'Like what you see? Visit the ' +\n",
              "            '<a target=\"_blank\" href=https://colab.research.google.com/notebooks/data_table.ipynb>data table notebook</a>'\n",
              "            + ' to learn more about interactive tables.';\n",
              "          element.innerHTML = '';\n",
              "          dataTable['output_type'] = 'display_data';\n",
              "          await google.colab.output.renderOutput(dataTable, element);\n",
              "          const docLink = document.createElement('div');\n",
              "          docLink.innerHTML = docLinkHtml;\n",
              "          element.appendChild(docLink);\n",
              "        }\n",
              "      </script>\n",
              "    </div>\n",
              "  </div>\n",
              "  "
            ]
          },
          "metadata": {},
          "execution_count": 7
        }
      ]
    },
    {
      "cell_type": "code",
      "source": [
        "dist_data = pd.read_csv('/content/gdrive/MyDrive/Colab Notebooks/Hackathon_PricePediction/dist_from_city_centre.csv')\n",
        "dist_data.head()"
      ],
      "metadata": {
        "colab": {
          "base_uri": "https://localhost:8080/",
          "height": 206
        },
        "id": "BOf3Egg_AHIa",
        "outputId": "ecb39ece-5324-4a6c-86f9-cf4272876374"
      },
      "id": "BOf3Egg_AHIa",
      "execution_count": null,
      "outputs": [
        {
          "output_type": "execute_result",
          "data": {
            "text/plain": [
              "          location  dist_from_city\n",
              "0       Whitefield            17.3\n",
              "1   Sarjapur  Road            17.2\n",
              "2  Electronic City            18.1\n",
              "3   Kanakpura Road            26.5\n",
              "4      Thanisandra            11.5"
            ],
            "text/html": [
              "\n",
              "  <div id=\"df-671fc02d-6a0b-4be3-83e6-f22b8d9e4bf0\">\n",
              "    <div class=\"colab-df-container\">\n",
              "      <div>\n",
              "<style scoped>\n",
              "    .dataframe tbody tr th:only-of-type {\n",
              "        vertical-align: middle;\n",
              "    }\n",
              "\n",
              "    .dataframe tbody tr th {\n",
              "        vertical-align: top;\n",
              "    }\n",
              "\n",
              "    .dataframe thead th {\n",
              "        text-align: right;\n",
              "    }\n",
              "</style>\n",
              "<table border=\"1\" class=\"dataframe\">\n",
              "  <thead>\n",
              "    <tr style=\"text-align: right;\">\n",
              "      <th></th>\n",
              "      <th>location</th>\n",
              "      <th>dist_from_city</th>\n",
              "    </tr>\n",
              "  </thead>\n",
              "  <tbody>\n",
              "    <tr>\n",
              "      <th>0</th>\n",
              "      <td>Whitefield</td>\n",
              "      <td>17.3</td>\n",
              "    </tr>\n",
              "    <tr>\n",
              "      <th>1</th>\n",
              "      <td>Sarjapur  Road</td>\n",
              "      <td>17.2</td>\n",
              "    </tr>\n",
              "    <tr>\n",
              "      <th>2</th>\n",
              "      <td>Electronic City</td>\n",
              "      <td>18.1</td>\n",
              "    </tr>\n",
              "    <tr>\n",
              "      <th>3</th>\n",
              "      <td>Kanakpura Road</td>\n",
              "      <td>26.5</td>\n",
              "    </tr>\n",
              "    <tr>\n",
              "      <th>4</th>\n",
              "      <td>Thanisandra</td>\n",
              "      <td>11.5</td>\n",
              "    </tr>\n",
              "  </tbody>\n",
              "</table>\n",
              "</div>\n",
              "      <button class=\"colab-df-convert\" onclick=\"convertToInteractive('df-671fc02d-6a0b-4be3-83e6-f22b8d9e4bf0')\"\n",
              "              title=\"Convert this dataframe to an interactive table.\"\n",
              "              style=\"display:none;\">\n",
              "        \n",
              "  <svg xmlns=\"http://www.w3.org/2000/svg\" height=\"24px\"viewBox=\"0 0 24 24\"\n",
              "       width=\"24px\">\n",
              "    <path d=\"M0 0h24v24H0V0z\" fill=\"none\"/>\n",
              "    <path d=\"M18.56 5.44l.94 2.06.94-2.06 2.06-.94-2.06-.94-.94-2.06-.94 2.06-2.06.94zm-11 1L8.5 8.5l.94-2.06 2.06-.94-2.06-.94L8.5 2.5l-.94 2.06-2.06.94zm10 10l.94 2.06.94-2.06 2.06-.94-2.06-.94-.94-2.06-.94 2.06-2.06.94z\"/><path d=\"M17.41 7.96l-1.37-1.37c-.4-.4-.92-.59-1.43-.59-.52 0-1.04.2-1.43.59L10.3 9.45l-7.72 7.72c-.78.78-.78 2.05 0 2.83L4 21.41c.39.39.9.59 1.41.59.51 0 1.02-.2 1.41-.59l7.78-7.78 2.81-2.81c.8-.78.8-2.07 0-2.86zM5.41 20L4 18.59l7.72-7.72 1.47 1.35L5.41 20z\"/>\n",
              "  </svg>\n",
              "      </button>\n",
              "      \n",
              "  <style>\n",
              "    .colab-df-container {\n",
              "      display:flex;\n",
              "      flex-wrap:wrap;\n",
              "      gap: 12px;\n",
              "    }\n",
              "\n",
              "    .colab-df-convert {\n",
              "      background-color: #E8F0FE;\n",
              "      border: none;\n",
              "      border-radius: 50%;\n",
              "      cursor: pointer;\n",
              "      display: none;\n",
              "      fill: #1967D2;\n",
              "      height: 32px;\n",
              "      padding: 0 0 0 0;\n",
              "      width: 32px;\n",
              "    }\n",
              "\n",
              "    .colab-df-convert:hover {\n",
              "      background-color: #E2EBFA;\n",
              "      box-shadow: 0px 1px 2px rgba(60, 64, 67, 0.3), 0px 1px 3px 1px rgba(60, 64, 67, 0.15);\n",
              "      fill: #174EA6;\n",
              "    }\n",
              "\n",
              "    [theme=dark] .colab-df-convert {\n",
              "      background-color: #3B4455;\n",
              "      fill: #D2E3FC;\n",
              "    }\n",
              "\n",
              "    [theme=dark] .colab-df-convert:hover {\n",
              "      background-color: #434B5C;\n",
              "      box-shadow: 0px 1px 3px 1px rgba(0, 0, 0, 0.15);\n",
              "      filter: drop-shadow(0px 1px 2px rgba(0, 0, 0, 0.3));\n",
              "      fill: #FFFFFF;\n",
              "    }\n",
              "  </style>\n",
              "\n",
              "      <script>\n",
              "        const buttonEl =\n",
              "          document.querySelector('#df-671fc02d-6a0b-4be3-83e6-f22b8d9e4bf0 button.colab-df-convert');\n",
              "        buttonEl.style.display =\n",
              "          google.colab.kernel.accessAllowed ? 'block' : 'none';\n",
              "\n",
              "        async function convertToInteractive(key) {\n",
              "          const element = document.querySelector('#df-671fc02d-6a0b-4be3-83e6-f22b8d9e4bf0');\n",
              "          const dataTable =\n",
              "            await google.colab.kernel.invokeFunction('convertToInteractive',\n",
              "                                                     [key], {});\n",
              "          if (!dataTable) return;\n",
              "\n",
              "          const docLinkHtml = 'Like what you see? Visit the ' +\n",
              "            '<a target=\"_blank\" href=https://colab.research.google.com/notebooks/data_table.ipynb>data table notebook</a>'\n",
              "            + ' to learn more about interactive tables.';\n",
              "          element.innerHTML = '';\n",
              "          dataTable['output_type'] = 'display_data';\n",
              "          await google.colab.output.renderOutput(dataTable, element);\n",
              "          const docLink = document.createElement('div');\n",
              "          docLink.innerHTML = docLinkHtml;\n",
              "          element.appendChild(docLink);\n",
              "        }\n",
              "      </script>\n",
              "    </div>\n",
              "  </div>\n",
              "  "
            ]
          },
          "metadata": {},
          "execution_count": 8
        }
      ]
    },
    {
      "cell_type": "markdown",
      "id": "fc8996ce",
      "metadata": {
        "id": "fc8996ce"
      },
      "source": [
        "# Exploratory Data Analysis"
      ]
    },
    {
      "cell_type": "code",
      "execution_count": null,
      "id": "643c5ca9",
      "metadata": {
        "colab": {
          "base_uri": "https://localhost:8080/"
        },
        "id": "643c5ca9",
        "outputId": "57e7f450-a836-4e83-bab5-f33c1b932f95"
      },
      "outputs": [
        {
          "output_type": "stream",
          "name": "stdout",
          "text": [
            "(10656, 10)\n",
            "(2664, 9)\n",
            "(500, 2)\n"
          ]
        }
      ],
      "source": [
        "print(housing_data.shape)\n",
        "print(test_data.shape)\n",
        "print(dist_data.shape)"
      ]
    },
    {
      "cell_type": "code",
      "execution_count": null,
      "id": "38bc24fe",
      "metadata": {
        "colab": {
          "base_uri": "https://localhost:8080/"
        },
        "id": "38bc24fe",
        "outputId": "c5a943a8-4219-4fea-e7bf-18fa5a206344"
      },
      "outputs": [
        {
          "output_type": "stream",
          "name": "stdout",
          "text": [
            "<class 'pandas.core.frame.DataFrame'>\n",
            "RangeIndex: 10656 entries, 0 to 10655\n",
            "Data columns (total 10 columns):\n",
            " #   Column        Non-Null Count  Dtype  \n",
            "---  ------        --------------  -----  \n",
            " 0   ID            10656 non-null  int64  \n",
            " 1   area_type     10656 non-null  object \n",
            " 2   availability  10656 non-null  object \n",
            " 3   location      10655 non-null  object \n",
            " 4   size          10642 non-null  object \n",
            " 5   society       6228 non-null   object \n",
            " 6   total_sqft    10656 non-null  object \n",
            " 7   bath          10591 non-null  float64\n",
            " 8   balcony       10152 non-null  float64\n",
            " 9   price         10656 non-null  float64\n",
            "dtypes: float64(3), int64(1), object(6)\n",
            "memory usage: 832.6+ KB\n"
          ]
        }
      ],
      "source": [
        "housing_data.info()"
      ]
    },
    {
      "cell_type": "code",
      "source": [
        "dist_data.info()"
      ],
      "metadata": {
        "colab": {
          "base_uri": "https://localhost:8080/"
        },
        "id": "syeDm51aBKyo",
        "outputId": "0f154f75-ce8a-4484-98aa-667fb6a9ea1a"
      },
      "id": "syeDm51aBKyo",
      "execution_count": null,
      "outputs": [
        {
          "output_type": "stream",
          "name": "stdout",
          "text": [
            "<class 'pandas.core.frame.DataFrame'>\n",
            "RangeIndex: 500 entries, 0 to 499\n",
            "Data columns (total 2 columns):\n",
            " #   Column          Non-Null Count  Dtype  \n",
            "---  ------          --------------  -----  \n",
            " 0   location        500 non-null    object \n",
            " 1   dist_from_city  500 non-null    float64\n",
            "dtypes: float64(1), object(1)\n",
            "memory usage: 7.9+ KB\n"
          ]
        }
      ]
    },
    {
      "cell_type": "code",
      "source": [
        "housing_data['location'].value_counts()"
      ],
      "metadata": {
        "colab": {
          "base_uri": "https://localhost:8080/"
        },
        "id": "QBU3mpzVQWQV",
        "outputId": "dcb50c22-1acd-485a-fee9-341a08d40827"
      },
      "id": "QBU3mpzVQWQV",
      "execution_count": null,
      "outputs": [
        {
          "output_type": "execute_result",
          "data": {
            "text/plain": [
              "Whitefield                433\n",
              "Sarjapur  Road            303\n",
              "Electronic City           234\n",
              "Kanakpura Road            217\n",
              "Thanisandra               178\n",
              "                         ... \n",
              "Sahyadri Layout             1\n",
              "Laxminarayana Layout        1\n",
              "Kanakadasa Layout           1\n",
              "Indira Nagar 3rd Stage      1\n",
              "Panathur Road,              1\n",
              "Name: location, Length: 1197, dtype: int64"
            ]
          },
          "metadata": {},
          "execution_count": 12
        }
      ]
    },
    {
      "cell_type": "code",
      "source": [
        "df = pd.merge(left = housing_data, right = dist_data, how = 'outer', on = 'location' )\n",
        "df.head()"
      ],
      "metadata": {
        "id": "2Kc8p-YIByHY",
        "colab": {
          "base_uri": "https://localhost:8080/",
          "height": 206
        },
        "outputId": "3fa55eef-cd87-4bf5-d67a-e0beb26243d6"
      },
      "id": "2Kc8p-YIByHY",
      "execution_count": null,
      "outputs": [
        {
          "output_type": "execute_result",
          "data": {
            "text/plain": [
              "    ID             area_type   availability                  location   size  \\\n",
              "0    0  Super built-up  Area         19-Dec  Electronic City Phase II  2 BHK   \n",
              "1  155  Super built-up  Area         18-Jul  Electronic City Phase II  2 BHK   \n",
              "2  292  Super built-up  Area  Ready To Move  Electronic City Phase II  2 BHK   \n",
              "3  354  Super built-up  Area         18-May  Electronic City Phase II  1 BHK   \n",
              "4  461  Super built-up  Area         18-May  Electronic City Phase II  3 BHK   \n",
              "\n",
              "   society total_sqft  bath  balcony  price  dist_from_city  \n",
              "0  Coomee        1056   2.0      1.0  39.07            19.3  \n",
              "1  Sryalan       1020   2.0      1.0  30.60            19.3  \n",
              "2  Coush W       1069   2.0      2.0  45.00            19.3  \n",
              "3  SNbay G        630   1.0      1.0  28.35            19.3  \n",
              "4  Sryalan       1220   2.0      1.0  35.23            19.3  "
            ],
            "text/html": [
              "\n",
              "  <div id=\"df-6ec8b7da-292f-4aae-bc69-a009aeb1935a\">\n",
              "    <div class=\"colab-df-container\">\n",
              "      <div>\n",
              "<style scoped>\n",
              "    .dataframe tbody tr th:only-of-type {\n",
              "        vertical-align: middle;\n",
              "    }\n",
              "\n",
              "    .dataframe tbody tr th {\n",
              "        vertical-align: top;\n",
              "    }\n",
              "\n",
              "    .dataframe thead th {\n",
              "        text-align: right;\n",
              "    }\n",
              "</style>\n",
              "<table border=\"1\" class=\"dataframe\">\n",
              "  <thead>\n",
              "    <tr style=\"text-align: right;\">\n",
              "      <th></th>\n",
              "      <th>ID</th>\n",
              "      <th>area_type</th>\n",
              "      <th>availability</th>\n",
              "      <th>location</th>\n",
              "      <th>size</th>\n",
              "      <th>society</th>\n",
              "      <th>total_sqft</th>\n",
              "      <th>bath</th>\n",
              "      <th>balcony</th>\n",
              "      <th>price</th>\n",
              "      <th>dist_from_city</th>\n",
              "    </tr>\n",
              "  </thead>\n",
              "  <tbody>\n",
              "    <tr>\n",
              "      <th>0</th>\n",
              "      <td>0</td>\n",
              "      <td>Super built-up  Area</td>\n",
              "      <td>19-Dec</td>\n",
              "      <td>Electronic City Phase II</td>\n",
              "      <td>2 BHK</td>\n",
              "      <td>Coomee</td>\n",
              "      <td>1056</td>\n",
              "      <td>2.0</td>\n",
              "      <td>1.0</td>\n",
              "      <td>39.07</td>\n",
              "      <td>19.3</td>\n",
              "    </tr>\n",
              "    <tr>\n",
              "      <th>1</th>\n",
              "      <td>155</td>\n",
              "      <td>Super built-up  Area</td>\n",
              "      <td>18-Jul</td>\n",
              "      <td>Electronic City Phase II</td>\n",
              "      <td>2 BHK</td>\n",
              "      <td>Sryalan</td>\n",
              "      <td>1020</td>\n",
              "      <td>2.0</td>\n",
              "      <td>1.0</td>\n",
              "      <td>30.60</td>\n",
              "      <td>19.3</td>\n",
              "    </tr>\n",
              "    <tr>\n",
              "      <th>2</th>\n",
              "      <td>292</td>\n",
              "      <td>Super built-up  Area</td>\n",
              "      <td>Ready To Move</td>\n",
              "      <td>Electronic City Phase II</td>\n",
              "      <td>2 BHK</td>\n",
              "      <td>Coush W</td>\n",
              "      <td>1069</td>\n",
              "      <td>2.0</td>\n",
              "      <td>2.0</td>\n",
              "      <td>45.00</td>\n",
              "      <td>19.3</td>\n",
              "    </tr>\n",
              "    <tr>\n",
              "      <th>3</th>\n",
              "      <td>354</td>\n",
              "      <td>Super built-up  Area</td>\n",
              "      <td>18-May</td>\n",
              "      <td>Electronic City Phase II</td>\n",
              "      <td>1 BHK</td>\n",
              "      <td>SNbay G</td>\n",
              "      <td>630</td>\n",
              "      <td>1.0</td>\n",
              "      <td>1.0</td>\n",
              "      <td>28.35</td>\n",
              "      <td>19.3</td>\n",
              "    </tr>\n",
              "    <tr>\n",
              "      <th>4</th>\n",
              "      <td>461</td>\n",
              "      <td>Super built-up  Area</td>\n",
              "      <td>18-May</td>\n",
              "      <td>Electronic City Phase II</td>\n",
              "      <td>3 BHK</td>\n",
              "      <td>Sryalan</td>\n",
              "      <td>1220</td>\n",
              "      <td>2.0</td>\n",
              "      <td>1.0</td>\n",
              "      <td>35.23</td>\n",
              "      <td>19.3</td>\n",
              "    </tr>\n",
              "  </tbody>\n",
              "</table>\n",
              "</div>\n",
              "      <button class=\"colab-df-convert\" onclick=\"convertToInteractive('df-6ec8b7da-292f-4aae-bc69-a009aeb1935a')\"\n",
              "              title=\"Convert this dataframe to an interactive table.\"\n",
              "              style=\"display:none;\">\n",
              "        \n",
              "  <svg xmlns=\"http://www.w3.org/2000/svg\" height=\"24px\"viewBox=\"0 0 24 24\"\n",
              "       width=\"24px\">\n",
              "    <path d=\"M0 0h24v24H0V0z\" fill=\"none\"/>\n",
              "    <path d=\"M18.56 5.44l.94 2.06.94-2.06 2.06-.94-2.06-.94-.94-2.06-.94 2.06-2.06.94zm-11 1L8.5 8.5l.94-2.06 2.06-.94-2.06-.94L8.5 2.5l-.94 2.06-2.06.94zm10 10l.94 2.06.94-2.06 2.06-.94-2.06-.94-.94-2.06-.94 2.06-2.06.94z\"/><path d=\"M17.41 7.96l-1.37-1.37c-.4-.4-.92-.59-1.43-.59-.52 0-1.04.2-1.43.59L10.3 9.45l-7.72 7.72c-.78.78-.78 2.05 0 2.83L4 21.41c.39.39.9.59 1.41.59.51 0 1.02-.2 1.41-.59l7.78-7.78 2.81-2.81c.8-.78.8-2.07 0-2.86zM5.41 20L4 18.59l7.72-7.72 1.47 1.35L5.41 20z\"/>\n",
              "  </svg>\n",
              "      </button>\n",
              "      \n",
              "  <style>\n",
              "    .colab-df-container {\n",
              "      display:flex;\n",
              "      flex-wrap:wrap;\n",
              "      gap: 12px;\n",
              "    }\n",
              "\n",
              "    .colab-df-convert {\n",
              "      background-color: #E8F0FE;\n",
              "      border: none;\n",
              "      border-radius: 50%;\n",
              "      cursor: pointer;\n",
              "      display: none;\n",
              "      fill: #1967D2;\n",
              "      height: 32px;\n",
              "      padding: 0 0 0 0;\n",
              "      width: 32px;\n",
              "    }\n",
              "\n",
              "    .colab-df-convert:hover {\n",
              "      background-color: #E2EBFA;\n",
              "      box-shadow: 0px 1px 2px rgba(60, 64, 67, 0.3), 0px 1px 3px 1px rgba(60, 64, 67, 0.15);\n",
              "      fill: #174EA6;\n",
              "    }\n",
              "\n",
              "    [theme=dark] .colab-df-convert {\n",
              "      background-color: #3B4455;\n",
              "      fill: #D2E3FC;\n",
              "    }\n",
              "\n",
              "    [theme=dark] .colab-df-convert:hover {\n",
              "      background-color: #434B5C;\n",
              "      box-shadow: 0px 1px 3px 1px rgba(0, 0, 0, 0.15);\n",
              "      filter: drop-shadow(0px 1px 2px rgba(0, 0, 0, 0.3));\n",
              "      fill: #FFFFFF;\n",
              "    }\n",
              "  </style>\n",
              "\n",
              "      <script>\n",
              "        const buttonEl =\n",
              "          document.querySelector('#df-6ec8b7da-292f-4aae-bc69-a009aeb1935a button.colab-df-convert');\n",
              "        buttonEl.style.display =\n",
              "          google.colab.kernel.accessAllowed ? 'block' : 'none';\n",
              "\n",
              "        async function convertToInteractive(key) {\n",
              "          const element = document.querySelector('#df-6ec8b7da-292f-4aae-bc69-a009aeb1935a');\n",
              "          const dataTable =\n",
              "            await google.colab.kernel.invokeFunction('convertToInteractive',\n",
              "                                                     [key], {});\n",
              "          if (!dataTable) return;\n",
              "\n",
              "          const docLinkHtml = 'Like what you see? Visit the ' +\n",
              "            '<a target=\"_blank\" href=https://colab.research.google.com/notebooks/data_table.ipynb>data table notebook</a>'\n",
              "            + ' to learn more about interactive tables.';\n",
              "          element.innerHTML = '';\n",
              "          dataTable['output_type'] = 'display_data';\n",
              "          await google.colab.output.renderOutput(dataTable, element);\n",
              "          const docLink = document.createElement('div');\n",
              "          docLink.innerHTML = docLinkHtml;\n",
              "          element.appendChild(docLink);\n",
              "        }\n",
              "      </script>\n",
              "    </div>\n",
              "  </div>\n",
              "  "
            ]
          },
          "metadata": {},
          "execution_count": 13
        }
      ]
    },
    {
      "cell_type": "code",
      "execution_count": null,
      "id": "18c9dda9",
      "metadata": {
        "scrolled": true,
        "colab": {
          "base_uri": "https://localhost:8080/",
          "height": 300
        },
        "id": "18c9dda9",
        "outputId": "616b38fb-7dd5-4ad4-a68f-9ae59ca74bf6"
      },
      "outputs": [
        {
          "output_type": "execute_result",
          "data": {
            "text/plain": [
              "                 ID          bath       balcony         price  dist_from_city\n",
              "count  10656.000000  10591.000000  10152.000000  10656.000000     9630.000000\n",
              "mean    5327.500000      2.690586      1.581757    112.214256       15.191080\n",
              "std     3076.266568      1.352403      0.821357    142.231967        6.242696\n",
              "min        0.000000      1.000000      0.000000      8.000000        1.900000\n",
              "25%     2663.750000      2.000000      1.000000     50.000000       11.100000\n",
              "50%     5327.500000      2.000000      2.000000     72.000000       14.400000\n",
              "75%     7991.250000      3.000000      2.000000    120.000000       17.400000\n",
              "max    10655.000000     40.000000      3.000000   2700.000000       47.700000"
            ],
            "text/html": [
              "\n",
              "  <div id=\"df-a7806294-24b7-45bd-8142-8c91f838f825\">\n",
              "    <div class=\"colab-df-container\">\n",
              "      <div>\n",
              "<style scoped>\n",
              "    .dataframe tbody tr th:only-of-type {\n",
              "        vertical-align: middle;\n",
              "    }\n",
              "\n",
              "    .dataframe tbody tr th {\n",
              "        vertical-align: top;\n",
              "    }\n",
              "\n",
              "    .dataframe thead th {\n",
              "        text-align: right;\n",
              "    }\n",
              "</style>\n",
              "<table border=\"1\" class=\"dataframe\">\n",
              "  <thead>\n",
              "    <tr style=\"text-align: right;\">\n",
              "      <th></th>\n",
              "      <th>ID</th>\n",
              "      <th>bath</th>\n",
              "      <th>balcony</th>\n",
              "      <th>price</th>\n",
              "      <th>dist_from_city</th>\n",
              "    </tr>\n",
              "  </thead>\n",
              "  <tbody>\n",
              "    <tr>\n",
              "      <th>count</th>\n",
              "      <td>10656.000000</td>\n",
              "      <td>10591.000000</td>\n",
              "      <td>10152.000000</td>\n",
              "      <td>10656.000000</td>\n",
              "      <td>9630.000000</td>\n",
              "    </tr>\n",
              "    <tr>\n",
              "      <th>mean</th>\n",
              "      <td>5327.500000</td>\n",
              "      <td>2.690586</td>\n",
              "      <td>1.581757</td>\n",
              "      <td>112.214256</td>\n",
              "      <td>15.191080</td>\n",
              "    </tr>\n",
              "    <tr>\n",
              "      <th>std</th>\n",
              "      <td>3076.266568</td>\n",
              "      <td>1.352403</td>\n",
              "      <td>0.821357</td>\n",
              "      <td>142.231967</td>\n",
              "      <td>6.242696</td>\n",
              "    </tr>\n",
              "    <tr>\n",
              "      <th>min</th>\n",
              "      <td>0.000000</td>\n",
              "      <td>1.000000</td>\n",
              "      <td>0.000000</td>\n",
              "      <td>8.000000</td>\n",
              "      <td>1.900000</td>\n",
              "    </tr>\n",
              "    <tr>\n",
              "      <th>25%</th>\n",
              "      <td>2663.750000</td>\n",
              "      <td>2.000000</td>\n",
              "      <td>1.000000</td>\n",
              "      <td>50.000000</td>\n",
              "      <td>11.100000</td>\n",
              "    </tr>\n",
              "    <tr>\n",
              "      <th>50%</th>\n",
              "      <td>5327.500000</td>\n",
              "      <td>2.000000</td>\n",
              "      <td>2.000000</td>\n",
              "      <td>72.000000</td>\n",
              "      <td>14.400000</td>\n",
              "    </tr>\n",
              "    <tr>\n",
              "      <th>75%</th>\n",
              "      <td>7991.250000</td>\n",
              "      <td>3.000000</td>\n",
              "      <td>2.000000</td>\n",
              "      <td>120.000000</td>\n",
              "      <td>17.400000</td>\n",
              "    </tr>\n",
              "    <tr>\n",
              "      <th>max</th>\n",
              "      <td>10655.000000</td>\n",
              "      <td>40.000000</td>\n",
              "      <td>3.000000</td>\n",
              "      <td>2700.000000</td>\n",
              "      <td>47.700000</td>\n",
              "    </tr>\n",
              "  </tbody>\n",
              "</table>\n",
              "</div>\n",
              "      <button class=\"colab-df-convert\" onclick=\"convertToInteractive('df-a7806294-24b7-45bd-8142-8c91f838f825')\"\n",
              "              title=\"Convert this dataframe to an interactive table.\"\n",
              "              style=\"display:none;\">\n",
              "        \n",
              "  <svg xmlns=\"http://www.w3.org/2000/svg\" height=\"24px\"viewBox=\"0 0 24 24\"\n",
              "       width=\"24px\">\n",
              "    <path d=\"M0 0h24v24H0V0z\" fill=\"none\"/>\n",
              "    <path d=\"M18.56 5.44l.94 2.06.94-2.06 2.06-.94-2.06-.94-.94-2.06-.94 2.06-2.06.94zm-11 1L8.5 8.5l.94-2.06 2.06-.94-2.06-.94L8.5 2.5l-.94 2.06-2.06.94zm10 10l.94 2.06.94-2.06 2.06-.94-2.06-.94-.94-2.06-.94 2.06-2.06.94z\"/><path d=\"M17.41 7.96l-1.37-1.37c-.4-.4-.92-.59-1.43-.59-.52 0-1.04.2-1.43.59L10.3 9.45l-7.72 7.72c-.78.78-.78 2.05 0 2.83L4 21.41c.39.39.9.59 1.41.59.51 0 1.02-.2 1.41-.59l7.78-7.78 2.81-2.81c.8-.78.8-2.07 0-2.86zM5.41 20L4 18.59l7.72-7.72 1.47 1.35L5.41 20z\"/>\n",
              "  </svg>\n",
              "      </button>\n",
              "      \n",
              "  <style>\n",
              "    .colab-df-container {\n",
              "      display:flex;\n",
              "      flex-wrap:wrap;\n",
              "      gap: 12px;\n",
              "    }\n",
              "\n",
              "    .colab-df-convert {\n",
              "      background-color: #E8F0FE;\n",
              "      border: none;\n",
              "      border-radius: 50%;\n",
              "      cursor: pointer;\n",
              "      display: none;\n",
              "      fill: #1967D2;\n",
              "      height: 32px;\n",
              "      padding: 0 0 0 0;\n",
              "      width: 32px;\n",
              "    }\n",
              "\n",
              "    .colab-df-convert:hover {\n",
              "      background-color: #E2EBFA;\n",
              "      box-shadow: 0px 1px 2px rgba(60, 64, 67, 0.3), 0px 1px 3px 1px rgba(60, 64, 67, 0.15);\n",
              "      fill: #174EA6;\n",
              "    }\n",
              "\n",
              "    [theme=dark] .colab-df-convert {\n",
              "      background-color: #3B4455;\n",
              "      fill: #D2E3FC;\n",
              "    }\n",
              "\n",
              "    [theme=dark] .colab-df-convert:hover {\n",
              "      background-color: #434B5C;\n",
              "      box-shadow: 0px 1px 3px 1px rgba(0, 0, 0, 0.15);\n",
              "      filter: drop-shadow(0px 1px 2px rgba(0, 0, 0, 0.3));\n",
              "      fill: #FFFFFF;\n",
              "    }\n",
              "  </style>\n",
              "\n",
              "      <script>\n",
              "        const buttonEl =\n",
              "          document.querySelector('#df-a7806294-24b7-45bd-8142-8c91f838f825 button.colab-df-convert');\n",
              "        buttonEl.style.display =\n",
              "          google.colab.kernel.accessAllowed ? 'block' : 'none';\n",
              "\n",
              "        async function convertToInteractive(key) {\n",
              "          const element = document.querySelector('#df-a7806294-24b7-45bd-8142-8c91f838f825');\n",
              "          const dataTable =\n",
              "            await google.colab.kernel.invokeFunction('convertToInteractive',\n",
              "                                                     [key], {});\n",
              "          if (!dataTable) return;\n",
              "\n",
              "          const docLinkHtml = 'Like what you see? Visit the ' +\n",
              "            '<a target=\"_blank\" href=https://colab.research.google.com/notebooks/data_table.ipynb>data table notebook</a>'\n",
              "            + ' to learn more about interactive tables.';\n",
              "          element.innerHTML = '';\n",
              "          dataTable['output_type'] = 'display_data';\n",
              "          await google.colab.output.renderOutput(dataTable, element);\n",
              "          const docLink = document.createElement('div');\n",
              "          docLink.innerHTML = docLinkHtml;\n",
              "          element.appendChild(docLink);\n",
              "        }\n",
              "      </script>\n",
              "    </div>\n",
              "  </div>\n",
              "  "
            ]
          },
          "metadata": {},
          "execution_count": 14
        }
      ],
      "source": [
        "df.describe()"
      ]
    },
    {
      "cell_type": "code",
      "source": [
        "df.describe(include = 'object')"
      ],
      "metadata": {
        "colab": {
          "base_uri": "https://localhost:8080/",
          "height": 175
        },
        "id": "DOrOBaBzRGRF",
        "outputId": "740b91f7-c50b-4295-de6a-1649428648f8"
      },
      "id": "DOrOBaBzRGRF",
      "execution_count": null,
      "outputs": [
        {
          "output_type": "execute_result",
          "data": {
            "text/plain": [
              "                   area_type   availability    location   size  society  \\\n",
              "count                  10656          10656       10655  10642     6228   \n",
              "unique                     4             79        1197     30     2364   \n",
              "top     Super built-up  Area  Ready To Move  Whitefield  2 BHK  GrrvaGr   \n",
              "freq                    7009           8468         433   4146       70   \n",
              "\n",
              "       total_sqft  \n",
              "count       10656  \n",
              "unique       1923  \n",
              "top          1200  \n",
              "freq          667  "
            ],
            "text/html": [
              "\n",
              "  <div id=\"df-c8ed5f85-421c-4f9a-ac4c-33095a6f8a8c\">\n",
              "    <div class=\"colab-df-container\">\n",
              "      <div>\n",
              "<style scoped>\n",
              "    .dataframe tbody tr th:only-of-type {\n",
              "        vertical-align: middle;\n",
              "    }\n",
              "\n",
              "    .dataframe tbody tr th {\n",
              "        vertical-align: top;\n",
              "    }\n",
              "\n",
              "    .dataframe thead th {\n",
              "        text-align: right;\n",
              "    }\n",
              "</style>\n",
              "<table border=\"1\" class=\"dataframe\">\n",
              "  <thead>\n",
              "    <tr style=\"text-align: right;\">\n",
              "      <th></th>\n",
              "      <th>area_type</th>\n",
              "      <th>availability</th>\n",
              "      <th>location</th>\n",
              "      <th>size</th>\n",
              "      <th>society</th>\n",
              "      <th>total_sqft</th>\n",
              "    </tr>\n",
              "  </thead>\n",
              "  <tbody>\n",
              "    <tr>\n",
              "      <th>count</th>\n",
              "      <td>10656</td>\n",
              "      <td>10656</td>\n",
              "      <td>10655</td>\n",
              "      <td>10642</td>\n",
              "      <td>6228</td>\n",
              "      <td>10656</td>\n",
              "    </tr>\n",
              "    <tr>\n",
              "      <th>unique</th>\n",
              "      <td>4</td>\n",
              "      <td>79</td>\n",
              "      <td>1197</td>\n",
              "      <td>30</td>\n",
              "      <td>2364</td>\n",
              "      <td>1923</td>\n",
              "    </tr>\n",
              "    <tr>\n",
              "      <th>top</th>\n",
              "      <td>Super built-up  Area</td>\n",
              "      <td>Ready To Move</td>\n",
              "      <td>Whitefield</td>\n",
              "      <td>2 BHK</td>\n",
              "      <td>GrrvaGr</td>\n",
              "      <td>1200</td>\n",
              "    </tr>\n",
              "    <tr>\n",
              "      <th>freq</th>\n",
              "      <td>7009</td>\n",
              "      <td>8468</td>\n",
              "      <td>433</td>\n",
              "      <td>4146</td>\n",
              "      <td>70</td>\n",
              "      <td>667</td>\n",
              "    </tr>\n",
              "  </tbody>\n",
              "</table>\n",
              "</div>\n",
              "      <button class=\"colab-df-convert\" onclick=\"convertToInteractive('df-c8ed5f85-421c-4f9a-ac4c-33095a6f8a8c')\"\n",
              "              title=\"Convert this dataframe to an interactive table.\"\n",
              "              style=\"display:none;\">\n",
              "        \n",
              "  <svg xmlns=\"http://www.w3.org/2000/svg\" height=\"24px\"viewBox=\"0 0 24 24\"\n",
              "       width=\"24px\">\n",
              "    <path d=\"M0 0h24v24H0V0z\" fill=\"none\"/>\n",
              "    <path d=\"M18.56 5.44l.94 2.06.94-2.06 2.06-.94-2.06-.94-.94-2.06-.94 2.06-2.06.94zm-11 1L8.5 8.5l.94-2.06 2.06-.94-2.06-.94L8.5 2.5l-.94 2.06-2.06.94zm10 10l.94 2.06.94-2.06 2.06-.94-2.06-.94-.94-2.06-.94 2.06-2.06.94z\"/><path d=\"M17.41 7.96l-1.37-1.37c-.4-.4-.92-.59-1.43-.59-.52 0-1.04.2-1.43.59L10.3 9.45l-7.72 7.72c-.78.78-.78 2.05 0 2.83L4 21.41c.39.39.9.59 1.41.59.51 0 1.02-.2 1.41-.59l7.78-7.78 2.81-2.81c.8-.78.8-2.07 0-2.86zM5.41 20L4 18.59l7.72-7.72 1.47 1.35L5.41 20z\"/>\n",
              "  </svg>\n",
              "      </button>\n",
              "      \n",
              "  <style>\n",
              "    .colab-df-container {\n",
              "      display:flex;\n",
              "      flex-wrap:wrap;\n",
              "      gap: 12px;\n",
              "    }\n",
              "\n",
              "    .colab-df-convert {\n",
              "      background-color: #E8F0FE;\n",
              "      border: none;\n",
              "      border-radius: 50%;\n",
              "      cursor: pointer;\n",
              "      display: none;\n",
              "      fill: #1967D2;\n",
              "      height: 32px;\n",
              "      padding: 0 0 0 0;\n",
              "      width: 32px;\n",
              "    }\n",
              "\n",
              "    .colab-df-convert:hover {\n",
              "      background-color: #E2EBFA;\n",
              "      box-shadow: 0px 1px 2px rgba(60, 64, 67, 0.3), 0px 1px 3px 1px rgba(60, 64, 67, 0.15);\n",
              "      fill: #174EA6;\n",
              "    }\n",
              "\n",
              "    [theme=dark] .colab-df-convert {\n",
              "      background-color: #3B4455;\n",
              "      fill: #D2E3FC;\n",
              "    }\n",
              "\n",
              "    [theme=dark] .colab-df-convert:hover {\n",
              "      background-color: #434B5C;\n",
              "      box-shadow: 0px 1px 3px 1px rgba(0, 0, 0, 0.15);\n",
              "      filter: drop-shadow(0px 1px 2px rgba(0, 0, 0, 0.3));\n",
              "      fill: #FFFFFF;\n",
              "    }\n",
              "  </style>\n",
              "\n",
              "      <script>\n",
              "        const buttonEl =\n",
              "          document.querySelector('#df-c8ed5f85-421c-4f9a-ac4c-33095a6f8a8c button.colab-df-convert');\n",
              "        buttonEl.style.display =\n",
              "          google.colab.kernel.accessAllowed ? 'block' : 'none';\n",
              "\n",
              "        async function convertToInteractive(key) {\n",
              "          const element = document.querySelector('#df-c8ed5f85-421c-4f9a-ac4c-33095a6f8a8c');\n",
              "          const dataTable =\n",
              "            await google.colab.kernel.invokeFunction('convertToInteractive',\n",
              "                                                     [key], {});\n",
              "          if (!dataTable) return;\n",
              "\n",
              "          const docLinkHtml = 'Like what you see? Visit the ' +\n",
              "            '<a target=\"_blank\" href=https://colab.research.google.com/notebooks/data_table.ipynb>data table notebook</a>'\n",
              "            + ' to learn more about interactive tables.';\n",
              "          element.innerHTML = '';\n",
              "          dataTable['output_type'] = 'display_data';\n",
              "          await google.colab.output.renderOutput(dataTable, element);\n",
              "          const docLink = document.createElement('div');\n",
              "          docLink.innerHTML = docLinkHtml;\n",
              "          element.appendChild(docLink);\n",
              "        }\n",
              "      </script>\n",
              "    </div>\n",
              "  </div>\n",
              "  "
            ]
          },
          "metadata": {},
          "execution_count": 15
        }
      ]
    },
    {
      "cell_type": "code",
      "source": [
        "df['area_type'].value_counts()"
      ],
      "metadata": {
        "colab": {
          "base_uri": "https://localhost:8080/"
        },
        "id": "6jwkcWCmRXzE",
        "outputId": "684c6644-f5d3-46b7-ceaf-e77fc3cd2d63"
      },
      "id": "6jwkcWCmRXzE",
      "execution_count": null,
      "outputs": [
        {
          "output_type": "execute_result",
          "data": {
            "text/plain": [
              "Super built-up  Area    7009\n",
              "Built-up  Area          1927\n",
              "Plot  Area              1651\n",
              "Carpet  Area              69\n",
              "Name: area_type, dtype: int64"
            ]
          },
          "metadata": {},
          "execution_count": 16
        }
      ]
    },
    {
      "cell_type": "code",
      "execution_count": null,
      "id": "58b5a6d0",
      "metadata": {
        "colab": {
          "base_uri": "https://localhost:8080/"
        },
        "id": "58b5a6d0",
        "outputId": "6fb3049f-96a3-4699-8749-0200323d7608"
      },
      "outputs": [
        {
          "output_type": "execute_result",
          "data": {
            "text/plain": [
              "ID                   0\n",
              "area_type            0\n",
              "availability         0\n",
              "location             1\n",
              "size                14\n",
              "society           4428\n",
              "total_sqft           0\n",
              "bath                65\n",
              "balcony            504\n",
              "price                0\n",
              "dist_from_city    1026\n",
              "dtype: int64"
            ]
          },
          "metadata": {},
          "execution_count": 17
        }
      ],
      "source": [
        "df.isnull().sum()"
      ]
    },
    {
      "cell_type": "code",
      "source": [
        "df[['Rooms', 'Type']] = df[\"size\"].str.split(\" \", expand = True)"
      ],
      "metadata": {
        "id": "n26MtEc0Ucjp"
      },
      "id": "n26MtEc0Ucjp",
      "execution_count": null,
      "outputs": []
    },
    {
      "cell_type": "code",
      "source": [
        "df[\"bath\"].fillna(df[\"bath\"].median(), inplace = True)\n",
        "df[\"balcony\"].fillna(df[\"balcony\"].median(), inplace = True)\n",
        "df[\"dist_from_city\"].fillna(df[\"dist_from_city\"].median(), inplace = True)\n",
        "df[\"Rooms\"].fillna(df[\"Rooms\"].median(), inplace = True)"
      ],
      "metadata": {
        "id": "_XcpSv4BSv3b"
      },
      "id": "_XcpSv4BSv3b",
      "execution_count": null,
      "outputs": []
    },
    {
      "cell_type": "code",
      "source": [
        "df.drop(['Type',], axis = 1, inplace = True)"
      ],
      "metadata": {
        "id": "7GXrWBH-Wtk8"
      },
      "id": "7GXrWBH-Wtk8",
      "execution_count": null,
      "outputs": []
    },
    {
      "cell_type": "code",
      "source": [
        "df.drop(['size',], axis = 1, inplace = True)"
      ],
      "metadata": {
        "id": "8Wh_qOycW9jA"
      },
      "id": "8Wh_qOycW9jA",
      "execution_count": null,
      "outputs": []
    },
    {
      "cell_type": "code",
      "source": [
        "df.drop(['society'], axis = 1, inplace = True)"
      ],
      "metadata": {
        "id": "Z2sUu-XgR31D"
      },
      "id": "Z2sUu-XgR31D",
      "execution_count": null,
      "outputs": []
    },
    {
      "cell_type": "code",
      "source": [
        "df.drop(['ID'], axis = 1, inplace = True)"
      ],
      "metadata": {
        "id": "SOb8iRo-Xpq_"
      },
      "id": "SOb8iRo-Xpq_",
      "execution_count": null,
      "outputs": []
    },
    {
      "cell_type": "code",
      "source": [
        "df[\"location\"].mode()"
      ],
      "metadata": {
        "colab": {
          "base_uri": "https://localhost:8080/"
        },
        "id": "tHkFABKcT90R",
        "outputId": "bf993d6a-0102-4d4d-8771-1e9c731ae4d1"
      },
      "id": "tHkFABKcT90R",
      "execution_count": null,
      "outputs": [
        {
          "output_type": "execute_result",
          "data": {
            "text/plain": [
              "0    Whitefield\n",
              "dtype: object"
            ]
          },
          "metadata": {},
          "execution_count": 24
        }
      ]
    },
    {
      "cell_type": "code",
      "source": [
        "df[\"location\"].fillna(('Whitefield'), inplace = True)"
      ],
      "metadata": {
        "id": "8nrmnMluT01i"
      },
      "id": "8nrmnMluT01i",
      "execution_count": null,
      "outputs": []
    },
    {
      "cell_type": "code",
      "source": [
        "df.isnull().sum()"
      ],
      "metadata": {
        "colab": {
          "base_uri": "https://localhost:8080/"
        },
        "id": "oo66EqwMTdda",
        "outputId": "762444b3-5ff3-4360-8624-271f4ca95704"
      },
      "id": "oo66EqwMTdda",
      "execution_count": null,
      "outputs": [
        {
          "output_type": "execute_result",
          "data": {
            "text/plain": [
              "area_type         0\n",
              "availability      0\n",
              "location          0\n",
              "total_sqft        0\n",
              "bath              0\n",
              "balcony           0\n",
              "price             0\n",
              "dist_from_city    0\n",
              "Rooms             0\n",
              "dtype: int64"
            ]
          },
          "metadata": {},
          "execution_count": 26
        }
      ]
    },
    {
      "cell_type": "code",
      "source": [
        "df.head()"
      ],
      "metadata": {
        "colab": {
          "base_uri": "https://localhost:8080/",
          "height": 206
        },
        "id": "Ba4lKsIMXdfi",
        "outputId": "bed0129e-d372-435d-880e-dff373216f8e"
      },
      "id": "Ba4lKsIMXdfi",
      "execution_count": null,
      "outputs": [
        {
          "output_type": "execute_result",
          "data": {
            "text/plain": [
              "              area_type   availability                  location total_sqft  \\\n",
              "0  Super built-up  Area         19-Dec  Electronic City Phase II       1056   \n",
              "1  Super built-up  Area         18-Jul  Electronic City Phase II       1020   \n",
              "2  Super built-up  Area  Ready To Move  Electronic City Phase II       1069   \n",
              "3  Super built-up  Area         18-May  Electronic City Phase II        630   \n",
              "4  Super built-up  Area         18-May  Electronic City Phase II       1220   \n",
              "\n",
              "   bath  balcony  price  dist_from_city Rooms  \n",
              "0   2.0      1.0  39.07            19.3     2  \n",
              "1   2.0      1.0  30.60            19.3     2  \n",
              "2   2.0      2.0  45.00            19.3     2  \n",
              "3   1.0      1.0  28.35            19.3     1  \n",
              "4   2.0      1.0  35.23            19.3     3  "
            ],
            "text/html": [
              "\n",
              "  <div id=\"df-fc141f6c-dadd-4b7e-ab30-0fadf42d1b44\">\n",
              "    <div class=\"colab-df-container\">\n",
              "      <div>\n",
              "<style scoped>\n",
              "    .dataframe tbody tr th:only-of-type {\n",
              "        vertical-align: middle;\n",
              "    }\n",
              "\n",
              "    .dataframe tbody tr th {\n",
              "        vertical-align: top;\n",
              "    }\n",
              "\n",
              "    .dataframe thead th {\n",
              "        text-align: right;\n",
              "    }\n",
              "</style>\n",
              "<table border=\"1\" class=\"dataframe\">\n",
              "  <thead>\n",
              "    <tr style=\"text-align: right;\">\n",
              "      <th></th>\n",
              "      <th>area_type</th>\n",
              "      <th>availability</th>\n",
              "      <th>location</th>\n",
              "      <th>total_sqft</th>\n",
              "      <th>bath</th>\n",
              "      <th>balcony</th>\n",
              "      <th>price</th>\n",
              "      <th>dist_from_city</th>\n",
              "      <th>Rooms</th>\n",
              "    </tr>\n",
              "  </thead>\n",
              "  <tbody>\n",
              "    <tr>\n",
              "      <th>0</th>\n",
              "      <td>Super built-up  Area</td>\n",
              "      <td>19-Dec</td>\n",
              "      <td>Electronic City Phase II</td>\n",
              "      <td>1056</td>\n",
              "      <td>2.0</td>\n",
              "      <td>1.0</td>\n",
              "      <td>39.07</td>\n",
              "      <td>19.3</td>\n",
              "      <td>2</td>\n",
              "    </tr>\n",
              "    <tr>\n",
              "      <th>1</th>\n",
              "      <td>Super built-up  Area</td>\n",
              "      <td>18-Jul</td>\n",
              "      <td>Electronic City Phase II</td>\n",
              "      <td>1020</td>\n",
              "      <td>2.0</td>\n",
              "      <td>1.0</td>\n",
              "      <td>30.60</td>\n",
              "      <td>19.3</td>\n",
              "      <td>2</td>\n",
              "    </tr>\n",
              "    <tr>\n",
              "      <th>2</th>\n",
              "      <td>Super built-up  Area</td>\n",
              "      <td>Ready To Move</td>\n",
              "      <td>Electronic City Phase II</td>\n",
              "      <td>1069</td>\n",
              "      <td>2.0</td>\n",
              "      <td>2.0</td>\n",
              "      <td>45.00</td>\n",
              "      <td>19.3</td>\n",
              "      <td>2</td>\n",
              "    </tr>\n",
              "    <tr>\n",
              "      <th>3</th>\n",
              "      <td>Super built-up  Area</td>\n",
              "      <td>18-May</td>\n",
              "      <td>Electronic City Phase II</td>\n",
              "      <td>630</td>\n",
              "      <td>1.0</td>\n",
              "      <td>1.0</td>\n",
              "      <td>28.35</td>\n",
              "      <td>19.3</td>\n",
              "      <td>1</td>\n",
              "    </tr>\n",
              "    <tr>\n",
              "      <th>4</th>\n",
              "      <td>Super built-up  Area</td>\n",
              "      <td>18-May</td>\n",
              "      <td>Electronic City Phase II</td>\n",
              "      <td>1220</td>\n",
              "      <td>2.0</td>\n",
              "      <td>1.0</td>\n",
              "      <td>35.23</td>\n",
              "      <td>19.3</td>\n",
              "      <td>3</td>\n",
              "    </tr>\n",
              "  </tbody>\n",
              "</table>\n",
              "</div>\n",
              "      <button class=\"colab-df-convert\" onclick=\"convertToInteractive('df-fc141f6c-dadd-4b7e-ab30-0fadf42d1b44')\"\n",
              "              title=\"Convert this dataframe to an interactive table.\"\n",
              "              style=\"display:none;\">\n",
              "        \n",
              "  <svg xmlns=\"http://www.w3.org/2000/svg\" height=\"24px\"viewBox=\"0 0 24 24\"\n",
              "       width=\"24px\">\n",
              "    <path d=\"M0 0h24v24H0V0z\" fill=\"none\"/>\n",
              "    <path d=\"M18.56 5.44l.94 2.06.94-2.06 2.06-.94-2.06-.94-.94-2.06-.94 2.06-2.06.94zm-11 1L8.5 8.5l.94-2.06 2.06-.94-2.06-.94L8.5 2.5l-.94 2.06-2.06.94zm10 10l.94 2.06.94-2.06 2.06-.94-2.06-.94-.94-2.06-.94 2.06-2.06.94z\"/><path d=\"M17.41 7.96l-1.37-1.37c-.4-.4-.92-.59-1.43-.59-.52 0-1.04.2-1.43.59L10.3 9.45l-7.72 7.72c-.78.78-.78 2.05 0 2.83L4 21.41c.39.39.9.59 1.41.59.51 0 1.02-.2 1.41-.59l7.78-7.78 2.81-2.81c.8-.78.8-2.07 0-2.86zM5.41 20L4 18.59l7.72-7.72 1.47 1.35L5.41 20z\"/>\n",
              "  </svg>\n",
              "      </button>\n",
              "      \n",
              "  <style>\n",
              "    .colab-df-container {\n",
              "      display:flex;\n",
              "      flex-wrap:wrap;\n",
              "      gap: 12px;\n",
              "    }\n",
              "\n",
              "    .colab-df-convert {\n",
              "      background-color: #E8F0FE;\n",
              "      border: none;\n",
              "      border-radius: 50%;\n",
              "      cursor: pointer;\n",
              "      display: none;\n",
              "      fill: #1967D2;\n",
              "      height: 32px;\n",
              "      padding: 0 0 0 0;\n",
              "      width: 32px;\n",
              "    }\n",
              "\n",
              "    .colab-df-convert:hover {\n",
              "      background-color: #E2EBFA;\n",
              "      box-shadow: 0px 1px 2px rgba(60, 64, 67, 0.3), 0px 1px 3px 1px rgba(60, 64, 67, 0.15);\n",
              "      fill: #174EA6;\n",
              "    }\n",
              "\n",
              "    [theme=dark] .colab-df-convert {\n",
              "      background-color: #3B4455;\n",
              "      fill: #D2E3FC;\n",
              "    }\n",
              "\n",
              "    [theme=dark] .colab-df-convert:hover {\n",
              "      background-color: #434B5C;\n",
              "      box-shadow: 0px 1px 3px 1px rgba(0, 0, 0, 0.15);\n",
              "      filter: drop-shadow(0px 1px 2px rgba(0, 0, 0, 0.3));\n",
              "      fill: #FFFFFF;\n",
              "    }\n",
              "  </style>\n",
              "\n",
              "      <script>\n",
              "        const buttonEl =\n",
              "          document.querySelector('#df-fc141f6c-dadd-4b7e-ab30-0fadf42d1b44 button.colab-df-convert');\n",
              "        buttonEl.style.display =\n",
              "          google.colab.kernel.accessAllowed ? 'block' : 'none';\n",
              "\n",
              "        async function convertToInteractive(key) {\n",
              "          const element = document.querySelector('#df-fc141f6c-dadd-4b7e-ab30-0fadf42d1b44');\n",
              "          const dataTable =\n",
              "            await google.colab.kernel.invokeFunction('convertToInteractive',\n",
              "                                                     [key], {});\n",
              "          if (!dataTable) return;\n",
              "\n",
              "          const docLinkHtml = 'Like what you see? Visit the ' +\n",
              "            '<a target=\"_blank\" href=https://colab.research.google.com/notebooks/data_table.ipynb>data table notebook</a>'\n",
              "            + ' to learn more about interactive tables.';\n",
              "          element.innerHTML = '';\n",
              "          dataTable['output_type'] = 'display_data';\n",
              "          await google.colab.output.renderOutput(dataTable, element);\n",
              "          const docLink = document.createElement('div');\n",
              "          docLink.innerHTML = docLinkHtml;\n",
              "          element.appendChild(docLink);\n",
              "        }\n",
              "      </script>\n",
              "    </div>\n",
              "  </div>\n",
              "  "
            ]
          },
          "metadata": {},
          "execution_count": 27
        }
      ]
    },
    {
      "cell_type": "code",
      "source": [
        "df.dtypes"
      ],
      "metadata": {
        "colab": {
          "base_uri": "https://localhost:8080/"
        },
        "id": "5DCBa-uMXjXf",
        "outputId": "35e11fc7-4574-4ae0-862b-d2ef705a3b3d"
      },
      "id": "5DCBa-uMXjXf",
      "execution_count": null,
      "outputs": [
        {
          "output_type": "execute_result",
          "data": {
            "text/plain": [
              "area_type          object\n",
              "availability       object\n",
              "location           object\n",
              "total_sqft         object\n",
              "bath              float64\n",
              "balcony           float64\n",
              "price             float64\n",
              "dist_from_city    float64\n",
              "Rooms              object\n",
              "dtype: object"
            ]
          },
          "metadata": {},
          "execution_count": 28
        }
      ]
    },
    {
      "cell_type": "code",
      "source": [
        "df['Rooms'] = df['Rooms'].astype(int)"
      ],
      "metadata": {
        "id": "WtLqNvFcYPyg"
      },
      "id": "WtLqNvFcYPyg",
      "execution_count": null,
      "outputs": []
    },
    {
      "cell_type": "code",
      "source": [
        "df['total_sqft'].value_counts()"
      ],
      "metadata": {
        "colab": {
          "base_uri": "https://localhost:8080/"
        },
        "id": "R9_4UqVdZEOm",
        "outputId": "0f391d4e-4047-4c54-fa58-49489330e57e"
      },
      "id": "R9_4UqVdZEOm",
      "execution_count": null,
      "outputs": [
        {
          "output_type": "execute_result",
          "data": {
            "text/plain": [
              "1200           667\n",
              "1100           178\n",
              "2400           163\n",
              "1500           154\n",
              "600            150\n",
              "              ... \n",
              "2215 - 2475      1\n",
              "2476             1\n",
              "3425             1\n",
              "1551             1\n",
              "499              1\n",
              "Name: total_sqft, Length: 1923, dtype: int64"
            ]
          },
          "metadata": {},
          "execution_count": 30
        }
      ]
    },
    {
      "cell_type": "code",
      "source": [
        "l = []\n",
        "for i in df['total_sqft']:\n",
        "  if \"-\" in i:\n",
        "    [a,b] = (i.split(sep = '-'))\n",
        "    i = ((float(a)+float(b)/2))\n",
        "    l.append(i)\n",
        "  else: l.append(i)"
      ],
      "metadata": {
        "id": "UOXv55Xubtr-"
      },
      "id": "UOXv55Xubtr-",
      "execution_count": null,
      "outputs": []
    },
    {
      "cell_type": "code",
      "source": [
        "k = pd.DataFrame(l)\n",
        "k.dtypes"
      ],
      "metadata": {
        "colab": {
          "base_uri": "https://localhost:8080/"
        },
        "id": "1VMHGrtCZdvo",
        "outputId": "d647188c-8f8b-4463-ce31-0e6980ec0e9d"
      },
      "id": "1VMHGrtCZdvo",
      "execution_count": null,
      "outputs": [
        {
          "output_type": "execute_result",
          "data": {
            "text/plain": [
              "0    object\n",
              "dtype: object"
            ]
          },
          "metadata": {},
          "execution_count": 32
        }
      ]
    },
    {
      "cell_type": "code",
      "source": [
        "#################################################"
      ],
      "metadata": {
        "id": "yxIf7RIBbgzY"
      },
      "id": "yxIf7RIBbgzY",
      "execution_count": null,
      "outputs": []
    },
    {
      "cell_type": "code",
      "source": [
        "df.dtypes"
      ],
      "metadata": {
        "colab": {
          "base_uri": "https://localhost:8080/"
        },
        "id": "LfcPTwyGfBPt",
        "outputId": "4bf79f84-11cb-4548-8e56-a5b1bb609e40"
      },
      "id": "LfcPTwyGfBPt",
      "execution_count": null,
      "outputs": [
        {
          "output_type": "execute_result",
          "data": {
            "text/plain": [
              "area_type          object\n",
              "availability       object\n",
              "location           object\n",
              "total_sqft         object\n",
              "bath              float64\n",
              "balcony           float64\n",
              "price             float64\n",
              "dist_from_city    float64\n",
              "Rooms               int64\n",
              "dtype: object"
            ]
          },
          "metadata": {},
          "execution_count": 34
        }
      ]
    },
    {
      "cell_type": "code",
      "execution_count": null,
      "id": "72ad1408",
      "metadata": {
        "colab": {
          "base_uri": "https://localhost:8080/",
          "height": 501
        },
        "id": "72ad1408",
        "outputId": "a4a62429-7673-4fcc-f2c4-543cbed541ba"
      },
      "outputs": [
        {
          "output_type": "error",
          "ename": "KeyError",
          "evalue": "ignored",
          "traceback": [
            "\u001b[0;31m---------------------------------------------------------------------------\u001b[0m",
            "\u001b[0;31mKeyError\u001b[0m                                  Traceback (most recent call last)",
            "\u001b[0;32m/usr/local/lib/python3.8/dist-packages/pandas/core/indexes/base.py\u001b[0m in \u001b[0;36mget_loc\u001b[0;34m(self, key, method, tolerance)\u001b[0m\n\u001b[1;32m   3360\u001b[0m             \u001b[0;32mtry\u001b[0m\u001b[0;34m:\u001b[0m\u001b[0;34m\u001b[0m\u001b[0;34m\u001b[0m\u001b[0m\n\u001b[0;32m-> 3361\u001b[0;31m                 \u001b[0;32mreturn\u001b[0m \u001b[0mself\u001b[0m\u001b[0;34m.\u001b[0m\u001b[0m_engine\u001b[0m\u001b[0;34m.\u001b[0m\u001b[0mget_loc\u001b[0m\u001b[0;34m(\u001b[0m\u001b[0mcasted_key\u001b[0m\u001b[0;34m)\u001b[0m\u001b[0;34m\u001b[0m\u001b[0;34m\u001b[0m\u001b[0m\n\u001b[0m\u001b[1;32m   3362\u001b[0m             \u001b[0;32mexcept\u001b[0m \u001b[0mKeyError\u001b[0m \u001b[0;32mas\u001b[0m \u001b[0merr\u001b[0m\u001b[0;34m:\u001b[0m\u001b[0;34m\u001b[0m\u001b[0;34m\u001b[0m\u001b[0m\n",
            "\u001b[0;32m/usr/local/lib/python3.8/dist-packages/pandas/_libs/index.pyx\u001b[0m in \u001b[0;36mpandas._libs.index.IndexEngine.get_loc\u001b[0;34m()\u001b[0m\n",
            "\u001b[0;32m/usr/local/lib/python3.8/dist-packages/pandas/_libs/index.pyx\u001b[0m in \u001b[0;36mpandas._libs.index.IndexEngine.get_loc\u001b[0;34m()\u001b[0m\n",
            "\u001b[0;32mpandas/_libs/hashtable_class_helper.pxi\u001b[0m in \u001b[0;36mpandas._libs.hashtable.PyObjectHashTable.get_item\u001b[0;34m()\u001b[0m\n",
            "\u001b[0;32mpandas/_libs/hashtable_class_helper.pxi\u001b[0m in \u001b[0;36mpandas._libs.hashtable.PyObjectHashTable.get_item\u001b[0;34m()\u001b[0m\n",
            "\u001b[0;31mKeyError\u001b[0m: 'ocean_proximity'",
            "\nThe above exception was the direct cause of the following exception:\n",
            "\u001b[0;31mKeyError\u001b[0m                                  Traceback (most recent call last)",
            "\u001b[0;32m<ipython-input-35-840ca3b6f4f7>\u001b[0m in \u001b[0;36m<module>\u001b[0;34m\u001b[0m\n\u001b[0;32m----> 1\u001b[0;31m \u001b[0msns\u001b[0m\u001b[0;34m.\u001b[0m\u001b[0mcountplot\u001b[0m\u001b[0;34m(\u001b[0m\u001b[0mhousing_data\u001b[0m\u001b[0;34m[\u001b[0m\u001b[0;34m'ocean_proximity'\u001b[0m\u001b[0;34m]\u001b[0m\u001b[0;34m)\u001b[0m\u001b[0;34m\u001b[0m\u001b[0;34m\u001b[0m\u001b[0m\n\u001b[0m\u001b[1;32m      2\u001b[0m \u001b[0mplt\u001b[0m\u001b[0;34m.\u001b[0m\u001b[0mshow\u001b[0m\u001b[0;34m(\u001b[0m\u001b[0;34m)\u001b[0m\u001b[0;34m\u001b[0m\u001b[0;34m\u001b[0m\u001b[0m\n",
            "\u001b[0;32m/usr/local/lib/python3.8/dist-packages/pandas/core/frame.py\u001b[0m in \u001b[0;36m__getitem__\u001b[0;34m(self, key)\u001b[0m\n\u001b[1;32m   3456\u001b[0m             \u001b[0;32mif\u001b[0m \u001b[0mself\u001b[0m\u001b[0;34m.\u001b[0m\u001b[0mcolumns\u001b[0m\u001b[0;34m.\u001b[0m\u001b[0mnlevels\u001b[0m \u001b[0;34m>\u001b[0m \u001b[0;36m1\u001b[0m\u001b[0;34m:\u001b[0m\u001b[0;34m\u001b[0m\u001b[0;34m\u001b[0m\u001b[0m\n\u001b[1;32m   3457\u001b[0m                 \u001b[0;32mreturn\u001b[0m \u001b[0mself\u001b[0m\u001b[0;34m.\u001b[0m\u001b[0m_getitem_multilevel\u001b[0m\u001b[0;34m(\u001b[0m\u001b[0mkey\u001b[0m\u001b[0;34m)\u001b[0m\u001b[0;34m\u001b[0m\u001b[0;34m\u001b[0m\u001b[0m\n\u001b[0;32m-> 3458\u001b[0;31m             \u001b[0mindexer\u001b[0m \u001b[0;34m=\u001b[0m \u001b[0mself\u001b[0m\u001b[0;34m.\u001b[0m\u001b[0mcolumns\u001b[0m\u001b[0;34m.\u001b[0m\u001b[0mget_loc\u001b[0m\u001b[0;34m(\u001b[0m\u001b[0mkey\u001b[0m\u001b[0;34m)\u001b[0m\u001b[0;34m\u001b[0m\u001b[0;34m\u001b[0m\u001b[0m\n\u001b[0m\u001b[1;32m   3459\u001b[0m             \u001b[0;32mif\u001b[0m \u001b[0mis_integer\u001b[0m\u001b[0;34m(\u001b[0m\u001b[0mindexer\u001b[0m\u001b[0;34m)\u001b[0m\u001b[0;34m:\u001b[0m\u001b[0;34m\u001b[0m\u001b[0;34m\u001b[0m\u001b[0m\n\u001b[1;32m   3460\u001b[0m                 \u001b[0mindexer\u001b[0m \u001b[0;34m=\u001b[0m \u001b[0;34m[\u001b[0m\u001b[0mindexer\u001b[0m\u001b[0;34m]\u001b[0m\u001b[0;34m\u001b[0m\u001b[0;34m\u001b[0m\u001b[0m\n",
            "\u001b[0;32m/usr/local/lib/python3.8/dist-packages/pandas/core/indexes/base.py\u001b[0m in \u001b[0;36mget_loc\u001b[0;34m(self, key, method, tolerance)\u001b[0m\n\u001b[1;32m   3361\u001b[0m                 \u001b[0;32mreturn\u001b[0m \u001b[0mself\u001b[0m\u001b[0;34m.\u001b[0m\u001b[0m_engine\u001b[0m\u001b[0;34m.\u001b[0m\u001b[0mget_loc\u001b[0m\u001b[0;34m(\u001b[0m\u001b[0mcasted_key\u001b[0m\u001b[0;34m)\u001b[0m\u001b[0;34m\u001b[0m\u001b[0;34m\u001b[0m\u001b[0m\n\u001b[1;32m   3362\u001b[0m             \u001b[0;32mexcept\u001b[0m \u001b[0mKeyError\u001b[0m \u001b[0;32mas\u001b[0m \u001b[0merr\u001b[0m\u001b[0;34m:\u001b[0m\u001b[0;34m\u001b[0m\u001b[0;34m\u001b[0m\u001b[0m\n\u001b[0;32m-> 3363\u001b[0;31m                 \u001b[0;32mraise\u001b[0m \u001b[0mKeyError\u001b[0m\u001b[0;34m(\u001b[0m\u001b[0mkey\u001b[0m\u001b[0;34m)\u001b[0m \u001b[0;32mfrom\u001b[0m \u001b[0merr\u001b[0m\u001b[0;34m\u001b[0m\u001b[0;34m\u001b[0m\u001b[0m\n\u001b[0m\u001b[1;32m   3364\u001b[0m \u001b[0;34m\u001b[0m\u001b[0m\n\u001b[1;32m   3365\u001b[0m         \u001b[0;32mif\u001b[0m \u001b[0mis_scalar\u001b[0m\u001b[0;34m(\u001b[0m\u001b[0mkey\u001b[0m\u001b[0;34m)\u001b[0m \u001b[0;32mand\u001b[0m \u001b[0misna\u001b[0m\u001b[0;34m(\u001b[0m\u001b[0mkey\u001b[0m\u001b[0;34m)\u001b[0m \u001b[0;32mand\u001b[0m \u001b[0;32mnot\u001b[0m \u001b[0mself\u001b[0m\u001b[0;34m.\u001b[0m\u001b[0mhasnans\u001b[0m\u001b[0;34m:\u001b[0m\u001b[0;34m\u001b[0m\u001b[0;34m\u001b[0m\u001b[0m\n",
            "\u001b[0;31mKeyError\u001b[0m: 'ocean_proximity'"
          ]
        }
      ],
      "source": [
        "sns.countplot(housing_data['ocean_proximity'])\n",
        "plt.show()"
      ]
    },
    {
      "cell_type": "code",
      "execution_count": null,
      "id": "09dcc7b6",
      "metadata": {
        "id": "09dcc7b6"
      },
      "outputs": [],
      "source": [
        "sns.stripplot(y = housing_data['median_house_value'], x = housing_data['ocean_proximity'])\n",
        "plt.show()"
      ]
    },
    {
      "cell_type": "code",
      "execution_count": null,
      "id": "3ee08bb0",
      "metadata": {
        "id": "3ee08bb0"
      },
      "outputs": [],
      "source": [
        "# Data Correlation"
      ]
    },
    {
      "cell_type": "code",
      "execution_count": null,
      "id": "cfdfaaff",
      "metadata": {
        "id": "cfdfaaff"
      },
      "outputs": [],
      "source": [
        "plt.figure(figsize = (10,8))\n",
        "\n",
        "sns.heatmap(housing_data.iloc[:,:].corr(), annot = True)\n",
        "plt.show()"
      ]
    },
    {
      "cell_type": "code",
      "execution_count": null,
      "id": "a5b17069",
      "metadata": {
        "id": "a5b17069"
      },
      "outputs": [],
      "source": [
        "from statsmodels.stats.outliers_influence import variance_inflation_factor"
      ]
    },
    {
      "cell_type": "code",
      "execution_count": null,
      "id": "601191c9",
      "metadata": {
        "id": "601191c9"
      },
      "outputs": [],
      "source": [
        "X = housing_data.iloc[ :, :-2]\n",
        "\n",
        "vif = pd.DataFrame()\n",
        "vif[\"VIF_Factor\"] = [variance_inflation_factor(X.values,i) for i in range(X.shape[1])]\n",
        "vif[\"Features\"] = X.columns\n",
        "\n",
        "print(vif)"
      ]
    },
    {
      "cell_type": "code",
      "execution_count": null,
      "id": "7a678ef4",
      "metadata": {
        "id": "7a678ef4"
      },
      "outputs": [],
      "source": [
        "# The variables 'longitude','total_rooms','households' are being dropped to reduce correlation\n",
        "# The variables are selected on the basis of vif value followed by trail and error approach of different combinations"
      ]
    },
    {
      "cell_type": "code",
      "execution_count": null,
      "id": "778a6199",
      "metadata": {
        "id": "778a6199"
      },
      "outputs": [],
      "source": [
        "housing_data2 = housing_data.drop(['longitude','total_rooms','households'], axis = 1)\n",
        "housing_data2.head()"
      ]
    },
    {
      "cell_type": "code",
      "execution_count": null,
      "id": "e078bcf6",
      "metadata": {
        "id": "e078bcf6"
      },
      "outputs": [],
      "source": [
        "X = housing_data2.iloc[ :, :-2]\n",
        "\n",
        "vif = pd.DataFrame()\n",
        "\n",
        "vif[\"VIF_Factor\"] = [variance_inflation_factor(X.values,i) for i in range(X.shape[1])]\n",
        "vif[\"Features\"] = X.columns\n",
        "\n",
        "print(vif)"
      ]
    },
    {
      "cell_type": "code",
      "execution_count": null,
      "id": "5f3017a3",
      "metadata": {
        "id": "5f3017a3"
      },
      "outputs": [],
      "source": [
        "# Variable distribution"
      ]
    },
    {
      "cell_type": "code",
      "execution_count": null,
      "id": "baabdf00",
      "metadata": {
        "scrolled": false,
        "id": "baabdf00"
      },
      "outputs": [],
      "source": [
        "df_num = housing_data2.select_dtypes(np.number)\n",
        "\n",
        "fig, ax = plt.subplots(nrows = 2, ncols = 3, figsize = (15,8))\n",
        "plt.tight_layout()\n",
        "\n",
        "for var, subplot in zip(df_num.columns,ax.flatten()):\n",
        "    sns.boxplot(df_num[var], ax = subplot)"
      ]
    },
    {
      "cell_type": "code",
      "execution_count": null,
      "id": "99bb2022",
      "metadata": {
        "id": "99bb2022"
      },
      "outputs": [],
      "source": [
        "# Treating the outliers"
      ]
    },
    {
      "cell_type": "code",
      "execution_count": null,
      "id": "787bda16",
      "metadata": {
        "id": "787bda16"
      },
      "outputs": [],
      "source": [
        "housing_data2.shape"
      ]
    },
    {
      "cell_type": "code",
      "execution_count": null,
      "id": "3d03cac4",
      "metadata": {
        "id": "3d03cac4"
      },
      "outputs": [],
      "source": [
        "q1 = housing_data2.quantile(0.25)\n",
        "q3 = housing_data2.quantile(0.75)\n",
        "\n",
        "iqr = q3-q1"
      ]
    },
    {
      "cell_type": "code",
      "execution_count": null,
      "id": "6059d914",
      "metadata": {
        "id": "6059d914"
      },
      "outputs": [],
      "source": [
        "housing_data3 = housing_data2[~((housing_data2 < (q1 - 1.5*iqr)) | (housing_data2 > (q3 + 1.5*iqr))).any(axis=1)]\n",
        "housing_data3.shape"
      ]
    },
    {
      "cell_type": "code",
      "execution_count": null,
      "id": "4878e580",
      "metadata": {
        "id": "4878e580"
      },
      "outputs": [],
      "source": [
        "sns.pairplot(housing_data3)\n",
        "plt.show()"
      ]
    },
    {
      "cell_type": "code",
      "execution_count": null,
      "id": "39bb98a3",
      "metadata": {
        "id": "39bb98a3"
      },
      "outputs": [],
      "source": [
        "# The variables except latitude are close to normal distribution\n",
        "# Some of the variables are right skewwed"
      ]
    },
    {
      "cell_type": "markdown",
      "id": "e089931f",
      "metadata": {
        "id": "e089931f"
      },
      "source": [
        "# Train Test Split"
      ]
    },
    {
      "cell_type": "code",
      "execution_count": null,
      "id": "6510ee2f",
      "metadata": {
        "id": "6510ee2f"
      },
      "outputs": [],
      "source": [
        "df_num = housing_data3.select_dtypes(include = np.number)\n",
        "\n",
        "df_cat = housing_data3.select_dtypes(include = 'object')\n",
        "\n",
        "df_cat = pd.get_dummies(df_cat,drop_first=True)\n",
        "df_cat.head()"
      ]
    },
    {
      "cell_type": "code",
      "execution_count": null,
      "id": "88dd7161",
      "metadata": {
        "id": "88dd7161"
      },
      "outputs": [],
      "source": [
        "# Standardizing the data"
      ]
    },
    {
      "cell_type": "code",
      "execution_count": null,
      "id": "8d8b3d15",
      "metadata": {
        "id": "8d8b3d15"
      },
      "outputs": [],
      "source": [
        "df_num = df_num.apply(lambda x: (x - x.mean())/x.std(), axis = 0)"
      ]
    },
    {
      "cell_type": "code",
      "execution_count": null,
      "id": "d7c75218",
      "metadata": {
        "id": "d7c75218"
      },
      "outputs": [],
      "source": [
        "housing_data4 = pd.concat([df_num, df_cat], axis= 1)\n",
        "housing_data4.head()"
      ]
    },
    {
      "cell_type": "code",
      "execution_count": null,
      "id": "c75579e9",
      "metadata": {
        "id": "c75579e9"
      },
      "outputs": [],
      "source": [
        "from sklearn.model_selection import train_test_split"
      ]
    },
    {
      "cell_type": "code",
      "execution_count": null,
      "id": "616d2548",
      "metadata": {
        "id": "616d2548"
      },
      "outputs": [],
      "source": [
        "X = housing_data4.drop('median_house_value', axis= 1)\n",
        "y = housing_data4['median_house_value']\n",
        "                  \n",
        "X_train, X_test, y_train, y_test = train_test_split(X,y, test_size = 0.3, random_state = 10)"
      ]
    },
    {
      "cell_type": "markdown",
      "id": "99004533",
      "metadata": {
        "id": "99004533"
      },
      "source": [
        "# Linear Regression"
      ]
    },
    {
      "cell_type": "code",
      "execution_count": null,
      "id": "76caa749",
      "metadata": {
        "id": "76caa749"
      },
      "outputs": [],
      "source": [
        "from sklearn.linear_model import LinearRegression"
      ]
    },
    {
      "cell_type": "code",
      "execution_count": null,
      "id": "2aea324b",
      "metadata": {
        "id": "2aea324b"
      },
      "outputs": [],
      "source": [
        "LR_model = LinearRegression()\n",
        "LR_model.fit(X_train, y_train)"
      ]
    },
    {
      "cell_type": "code",
      "execution_count": null,
      "id": "00e72e77",
      "metadata": {
        "id": "00e72e77"
      },
      "outputs": [],
      "source": [
        "y_pred_train = LR_model.predict(X_train)\n",
        "y_pred_test = LR_model.predict(X_test)"
      ]
    },
    {
      "cell_type": "code",
      "execution_count": null,
      "id": "8854e8c9",
      "metadata": {
        "id": "8854e8c9"
      },
      "outputs": [],
      "source": [
        "from sklearn.metrics import mean_absolute_error, r2_score"
      ]
    },
    {
      "cell_type": "code",
      "execution_count": null,
      "id": "88b1f5ba",
      "metadata": {
        "id": "88b1f5ba"
      },
      "outputs": [],
      "source": [
        "print(\"The r2_score of the train data is:\", round(r2_score(y_train, y_pred_train),2))\n",
        "print(\"The r2_score of the test data is:\", round(r2_score(y_test, y_pred_test),2))"
      ]
    },
    {
      "cell_type": "code",
      "execution_count": null,
      "id": "4e0ed0f4",
      "metadata": {
        "id": "4e0ed0f4"
      },
      "outputs": [],
      "source": [
        "print(\"The MAE of the train data is:\", round(mean_absolute_error(y_train, y_pred_train),2))\n",
        "print(\"The MAE of the test data is:\", round(mean_absolute_error(y_test, y_pred_test),2))"
      ]
    },
    {
      "cell_type": "code",
      "execution_count": null,
      "id": "8ca4a5c9",
      "metadata": {
        "id": "8ca4a5c9"
      },
      "outputs": [],
      "source": [
        "# The model has R squre of 0.6 which is a reasonable fit for a base model"
      ]
    },
    {
      "cell_type": "markdown",
      "id": "652c9ae1",
      "metadata": {
        "id": "652c9ae1"
      },
      "source": [
        "# Decision Tree Regressor"
      ]
    },
    {
      "cell_type": "code",
      "execution_count": null,
      "id": "6ba7db21",
      "metadata": {
        "id": "6ba7db21"
      },
      "outputs": [],
      "source": [
        "from sklearn.tree import DecisionTreeRegressor"
      ]
    },
    {
      "cell_type": "code",
      "execution_count": null,
      "id": "a1430cb4",
      "metadata": {
        "id": "a1430cb4"
      },
      "outputs": [],
      "source": [
        "decision_tree = DecisionTreeRegressor(random_state=10)\n",
        "decision_tree = decision_tree.fit(X_train, y_train)"
      ]
    },
    {
      "cell_type": "code",
      "execution_count": null,
      "id": "fffffc63",
      "metadata": {
        "id": "fffffc63"
      },
      "outputs": [],
      "source": [
        "y_pred_train = decision_tree.predict(X_train)\n",
        "y_pred_test = decision_tree.predict(X_test)"
      ]
    },
    {
      "cell_type": "code",
      "source": [
        "from sklearn.ensemble import RandomForestRegressor"
      ],
      "metadata": {
        "id": "oQp3BN9nrj5N"
      },
      "id": "oQp3BN9nrj5N",
      "execution_count": null,
      "outputs": []
    },
    {
      "cell_type": "code",
      "execution_count": null,
      "id": "c3644dbe",
      "metadata": {
        "id": "c3644dbe"
      },
      "outputs": [],
      "source": [
        "rf_model = RandomForestRegressor()\n",
        "rf_model = rf_model.fit(X_train, y_train)"
      ]
    },
    {
      "cell_type": "code",
      "execution_count": null,
      "id": "183ce1ee",
      "metadata": {
        "id": "183ce1ee"
      },
      "outputs": [],
      "source": [
        "y_pred_train = rf_model.predict(X_train)\n",
        "y_pred_test = rf_model.predict(X_test)"
      ]
    },
    {
      "cell_type": "code",
      "execution_count": null,
      "id": "4a3a160f",
      "metadata": {
        "id": "4a3a160f"
      },
      "outputs": [],
      "source": [
        "print(\"The r2_score of the train data is:\", round(r2_score(y_train, y_pred_train),2))\n",
        "print(\"The r2_score of the test data is:\", round(r2_score(y_test, y_pred_test),2))"
      ]
    },
    {
      "cell_type": "code",
      "execution_count": null,
      "id": "d1873457",
      "metadata": {
        "id": "d1873457"
      },
      "outputs": [],
      "source": [
        "print(\"The MAE of the train data is:\", round(mean_absolute_error(y_train, y_pred_train),2))\n",
        "print(\"The MAE of the test data is:\", round(mean_absolute_error(y_test, y_pred_test),2))"
      ]
    },
    {
      "cell_type": "markdown",
      "id": "7a96f3d9",
      "metadata": {
        "id": "7a96f3d9"
      },
      "source": [
        "# Random Forest Regressor"
      ]
    },
    {
      "cell_type": "code",
      "execution_count": null,
      "id": "58847219",
      "metadata": {
        "id": "58847219"
      },
      "outputs": [],
      "source": [
        "from sklearn.ensemble import RandomForestRegressor"
      ]
    },
    {
      "cell_type": "code",
      "execution_count": null,
      "id": "dbe193f5",
      "metadata": {
        "id": "dbe193f5"
      },
      "outputs": [],
      "source": [
        "rfr_model = RandomForestRegressor()\n",
        "rfr_model = rfr_model.fit(X_train, y_train)"
      ]
    },
    {
      "cell_type": "code",
      "execution_count": null,
      "id": "bd8cffaa",
      "metadata": {
        "id": "bd8cffaa"
      },
      "outputs": [],
      "source": [
        "y_pred_train = rf_model.predict(X_train)\n",
        "y_pred_test = rf_model.predict(X_test)"
      ]
    },
    {
      "cell_type": "code",
      "execution_count": null,
      "id": "ab9bd5c4",
      "metadata": {
        "scrolled": true,
        "id": "ab9bd5c4"
      },
      "outputs": [],
      "source": [
        "print(\"The r2_score of the train data is:\", round(r2_score(y_train, y_pred_train),2))\n",
        "print(\"The r2_score of the test data is:\", round(r2_score(y_test, y_pred_test),2))"
      ]
    },
    {
      "cell_type": "code",
      "execution_count": null,
      "id": "570ee9e7",
      "metadata": {
        "id": "570ee9e7"
      },
      "outputs": [],
      "source": [
        "print(\"The MAE of the train data is:\", round(mean_absolute_error(y_train, y_pred_train),2))\n",
        "print(\"The MAE of the test data is:\", round(mean_absolute_error(y_test, y_pred_test),2))"
      ]
    },
    {
      "cell_type": "markdown",
      "id": "1220bf3f",
      "metadata": {
        "id": "1220bf3f"
      },
      "source": [
        "# Fine tuning using GridSearchCV"
      ]
    },
    {
      "cell_type": "code",
      "execution_count": null,
      "id": "a39aee3a",
      "metadata": {
        "id": "a39aee3a"
      },
      "outputs": [],
      "source": [
        "from sklearn.model_selection import GridSearchCV"
      ]
    },
    {
      "cell_type": "code",
      "source": [
        "tuned_paramaters = [{'max_depth': range(5, 50, 5),  \n",
        "                     'min_samples_split': range(5, 50, 5)}]\n",
        "\n",
        "rf = RandomForestRegressor()\n",
        "rf_grid = GridSearchCV(estimator = rf, param_grid = tuned_paramaters, cv = 5)\n",
        "rf_grid.fit(X_train, y_train)\n",
        "rf_grid.best_params_"
      ],
      "metadata": {
        "id": "FT5C2NM6ZHCQ"
      },
      "id": "FT5C2NM6ZHCQ",
      "execution_count": null,
      "outputs": []
    },
    {
      "cell_type": "code",
      "source": [
        "rf_tuned_model = RandomForestRegressor(max_depth = rf_grid.best_params_['max_depth'],\n",
        "                                       max_features = rf_grid.best_params_['max_features'],\n",
        "                                       max_leaf_nodes = rf_grid.best_params_['max_leaf_nodes'],\n",
        "                                       max_samples = rf_grid.best_params_['max_samples'],\n",
        "                                        min_samples_leaf = rf_grid.best_params_['min_samples_leaf'],\n",
        "                                       min_samples_split = rf_grid.best_params_['min_samples_split'])\n",
        "\n",
        "rf_tuned_model.fit(X_train, y_train)"
      ],
      "metadata": {
        "id": "HyCPhgEKaLX_"
      },
      "id": "HyCPhgEKaLX_",
      "execution_count": null,
      "outputs": []
    },
    {
      "cell_type": "code",
      "execution_count": null,
      "id": "1d2c58b1",
      "metadata": {
        "id": "1d2c58b1"
      },
      "outputs": [],
      "source": [
        "y_pred_train = dt_tuned_model.predict(X_train)\n",
        "y_pred_test = dt_tuned_model.predict(X_test)"
      ]
    },
    {
      "cell_type": "code",
      "execution_count": null,
      "id": "96eeb62f",
      "metadata": {
        "id": "96eeb62f"
      },
      "outputs": [],
      "source": [
        "print(\"The r2_score of the train data is:\", round(r2_score(y_train, y_pred_train),2))\n",
        "print(\"The r2_score of the test data is:\", round(r2_score(y_test, y_pred_test),2))"
      ]
    },
    {
      "cell_type": "code",
      "execution_count": null,
      "id": "51fa91a1",
      "metadata": {
        "id": "51fa91a1"
      },
      "outputs": [],
      "source": [
        "print(\"The MAE of the train data is:\", round(mean_absolute_error(y_train, y_pred_train),2))\n",
        "print(\"The MAE of the test data is:\", round(mean_absolute_error(y_test, y_pred_test),2))"
      ]
    },
    {
      "cell_type": "raw",
      "id": "5215d3d7",
      "metadata": {
        "id": "5215d3d7"
      },
      "source": [
        "The random forest with tuned parameters is considered as the best model because it is having the best metrics with r2 square and error metrics when both train and test data is considered. This also avoids over fitting.\n",
        "\n",
        "Hence we consider the Random forest model among all the models. Further details are provided in the final report."
      ]
    },
    {
      "cell_type": "code",
      "execution_count": null,
      "id": "fe4b3c2f",
      "metadata": {
        "id": "fe4b3c2f"
      },
      "outputs": [],
      "source": []
    }
  ],
  "metadata": {
    "kernelspec": {
      "display_name": "Python 3 (ipykernel)",
      "language": "python",
      "name": "python3"
    },
    "language_info": {
      "codemirror_mode": {
        "name": "ipython",
        "version": 3
      },
      "file_extension": ".py",
      "mimetype": "text/x-python",
      "name": "python",
      "nbconvert_exporter": "python",
      "pygments_lexer": "ipython3",
      "version": "3.9.12"
    },
    "colab": {
      "provenance": [],
      "include_colab_link": true
    }
  },
  "nbformat": 4,
  "nbformat_minor": 5
}